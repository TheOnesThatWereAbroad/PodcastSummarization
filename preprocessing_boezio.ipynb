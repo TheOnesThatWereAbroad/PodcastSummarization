{
 "cells": [
  {
   "cell_type": "code",
   "execution_count": 8,
   "metadata": {},
   "outputs": [],
   "source": [
    "import pandas as pd\n",
    "import tensorflow as tf\n",
    "import numpy as np"
   ]
  },
  {
   "cell_type": "code",
   "execution_count": 9,
   "metadata": {},
   "outputs": [],
   "source": [
    "VOCAB_SIZE = 5000\n",
    "SEQUENCE_LENGTH = 1200"
   ]
  },
  {
   "cell_type": "markdown",
   "metadata": {},
   "source": [
    "Brass set described in the paper\n",
    "1) descriptions that are very long (> 750 characters) or short (< 20 characters)\n",
    "2) descriptions with high lexical overlap (over 40%) with their show description\n",
    "3) descriptions with high lexical overlap (over 50%) with other episode descriptions"
   ]
  },
  {
   "cell_type": "code",
   "execution_count": 10,
   "metadata": {},
   "outputs": [
    {
     "name": "stdout",
     "output_type": "stream",
     "text": [
      "WARNING:tensorflow:6 out of the last 6 calls to <function PreprocessingLayer.make_adapt_function.<locals>.adapt_step at 0x000002C622B90C18> triggered tf.function retracing. Tracing is expensive and the excessive number of tracings could be due to (1) creating @tf.function repeatedly in a loop, (2) passing tensors with different shapes, (3) passing Python objects instead of tensors. For (1), please define your @tf.function outside of the loop. For (2), @tf.function has experimental_relax_shapes=True option that relaxes argument shapes that can avoid unnecessary retracing. For (3), please refer to https://www.tensorflow.org/guide/function#controlling_retracing and https://www.tensorflow.org/api_docs/python/tf/function for  more details.\n"
     ]
    },
    {
     "data": {
      "text/html": [
       "<div>\n",
       "<style scoped>\n",
       "    .dataframe tbody tr th:only-of-type {\n",
       "        vertical-align: middle;\n",
       "    }\n",
       "\n",
       "    .dataframe tbody tr th {\n",
       "        vertical-align: top;\n",
       "    }\n",
       "\n",
       "    .dataframe thead th {\n",
       "        text-align: right;\n",
       "    }\n",
       "</style>\n",
       "<table border=\"1\" class=\"dataframe\">\n",
       "  <thead>\n",
       "    <tr style=\"text-align: right;\">\n",
       "      <th></th>\n",
       "      <th>episode_transcript</th>\n",
       "      <th>episode_description</th>\n",
       "    </tr>\n",
       "  </thead>\n",
       "  <tbody>\n",
       "    <tr>\n",
       "      <th>0</th>\n",
       "      <td>transcript one</td>\n",
       "      <td>this is the first summary of a podcast. I need...</td>\n",
       "    </tr>\n",
       "  </tbody>\n",
       "</table>\n",
       "</div>"
      ],
      "text/plain": [
       "  episode_transcript                                episode_description\n",
       "0     transcript one  this is the first summary of a podcast. I need..."
      ]
     },
     "execution_count": 10,
     "metadata": {},
     "output_type": "execute_result"
    }
   ],
   "source": [
    "def brass_length(dataset, tokenizer, upp_bound=750, low_bound=20):\n",
    "    \"\"\"\n",
    "    Returns a dataset with less samples removing ones having descriptions that are very long (> 750 characters)\n",
    "    or short (< 20 characters)\n",
    "    Parameters:\n",
    "        - dataset: pandas dataframe containing transcript and summary for each podcast\n",
    "        - tokenizer: tokenizer to use for tokenize the description\n",
    "        - upp_bound: maximum number of characters in the description\n",
    "        - low_bound: minimum number of characters in the description\n",
    "    Returns:\n",
    "        - subset of the dataset applying the aforementioned filter\n",
    "    \"\"\"\n",
    "    rows = dataset.shape[0]\n",
    "    for i in range(rows):\n",
    "        tokenized_description = tokenizer(dataset['episode_description'][i])\n",
    "        tokenized_description = np.nonzero(tokenized_description.numpy())[0]\n",
    "        if len(tokenized_description) > upp_bound or len(tokenized_description) < low_bound:\n",
    "            dataset.drop([i], inplace=True)\n",
    "\n",
    "    return dataset\n",
    "\n",
    "# testing\n",
    "data = [[\"transcript one\", \"this is the first summary of a podcast. I need to reach at least twenty \" \\\n",
    "        \"characters. It is not enough, I need to add other characters.\"], ['transcript 2', 'too short, it must be removed']]\n",
    "\n",
    "vectorizer = tf.keras.layers.TextVectorization(max_tokens=VOCAB_SIZE, output_mode='int', output_sequence_length=SEQUENCE_LENGTH)\n",
    "vectorizer.adapt(np.array(data).flatten())\n",
    "\n",
    "df = pd.DataFrame(data, columns=['episode_transcript', 'episode_description'])\n",
    "\n",
    "brass_length(df, vectorizer)\n"
   ]
  },
  {
   "cell_type": "code",
   "execution_count": null,
   "metadata": {},
   "outputs": [],
   "source": [
    "def overlapping_with_threshold(sentence_one, sentence_two, tokenizer, threshold):\n",
    "    \"\"\"\n",
    "    Returns whether two sentences have an overlap over threshold\n",
    "\n",
    "    \"\"\"\n",
    "    tokenized_one = tokenizer(sentence_one).numpy()\n",
    "    tokenized_two = tokenizer(sentence_two).numpy()\n",
    "    # index of meaningful tokens\n",
    "    index_one = np.nonzero(tokenized_one)[0]\n",
    "    index_two = np.nonzero(tokenized_two)[0]\n",
    "    # meaningful tokens\n",
    "    tok_sen_one = tokenized_one[index_one]\n",
    "    tok_sen_two = tokenized_two[index_two]\n",
    "    if len(tok_sen_one) > len(tok_sen_two):\n",
    "        short_sen = tok_sen_two\n",
    "        long_sen = tok_sen_one\n",
    "    else:\n",
    "        short_sen = tok_sen_one\n",
    "        long_sen = tok_sen_two\n",
    "    # it is possible to be sure it will not overlap\n",
    "    if len(short_sen) / len(long_sen) <= threshold:\n",
    "            return False\n",
    "    else:\n",
    "        # comparison of all possible matches\n",
    "        j = 0\n",
    "        while j <= len(long_sen) - len(short_sen):\n",
    "            # comparison between episode description and show description\n",
    "            common_index = (long_sen[j:j+len(short_sen)] == short_sen)\n",
    "            overlap = len(common_index) / len(long_sen)\n",
    "            if overlap > threshold:\n",
    "                return True\n",
    "            else:\n",
    "                j += 1\n",
    "        return False"
   ]
  },
  {
   "cell_type": "code",
   "execution_count": 7,
   "metadata": {},
   "outputs": [
    {
     "name": "stdout",
     "output_type": "stream",
     "text": [
      "WARNING:tensorflow:5 out of the last 5 calls to <function PreprocessingLayer.make_adapt_function.<locals>.adapt_step at 0x000002C622B34CA8> triggered tf.function retracing. Tracing is expensive and the excessive number of tracings could be due to (1) creating @tf.function repeatedly in a loop, (2) passing tensors with different shapes, (3) passing Python objects instead of tensors. For (1), please define your @tf.function outside of the loop. For (2), @tf.function has experimental_relax_shapes=True option that relaxes argument shapes that can avoid unnecessary retracing. For (3), please refer to https://www.tensorflow.org/guide/function#controlling_retracing and https://www.tensorflow.org/api_docs/python/tf/function for  more details.\n"
     ]
    },
    {
     "data": {
      "text/html": [
       "<div>\n",
       "<style scoped>\n",
       "    .dataframe tbody tr th:only-of-type {\n",
       "        vertical-align: middle;\n",
       "    }\n",
       "\n",
       "    .dataframe tbody tr th {\n",
       "        vertical-align: top;\n",
       "    }\n",
       "\n",
       "    .dataframe thead th {\n",
       "        text-align: right;\n",
       "    }\n",
       "</style>\n",
       "<table border=\"1\" class=\"dataframe\">\n",
       "  <thead>\n",
       "    <tr style=\"text-align: right;\">\n",
       "      <th></th>\n",
       "      <th>show_description</th>\n",
       "      <th>episode_description</th>\n",
       "    </tr>\n",
       "  </thead>\n",
       "  <tbody>\n",
       "    <tr>\n",
       "      <th>1</th>\n",
       "      <td>this will not be an overlapping</td>\n",
       "      <td>this will not be an overlapping sentence becau...</td>\n",
       "    </tr>\n",
       "  </tbody>\n",
       "</table>\n",
       "</div>"
      ],
      "text/plain": [
       "                  show_description  \\\n",
       "1  this will not be an overlapping   \n",
       "\n",
       "                                 episode_description  \n",
       "1  this will not be an overlapping sentence becau...  "
      ]
     },
     "execution_count": 7,
     "metadata": {},
     "output_type": "execute_result"
    }
   ],
   "source": [
    "def brass_overlap_show(dataset, tokenizer, percentage=0.4):\n",
    "    \"\"\"\n",
    "    Delete from the dataset podcast having a description which overlaps over percentage the show description\n",
    "    Parameters:\n",
    "        - dataset: dataset: pandas dataframe containing transcript and summary for each podcast\n",
    "        - tokenizer: tokenizer to use for tokenize the description and the show description\n",
    "        - percentage: threshold to discard the podcast\n",
    "    Returns:\n",
    "        - cleaned dataset\n",
    "    \"\"\"\n",
    "    rows = dataset.shape[0]\n",
    "    for i in range(rows):\n",
    "        tokenized_description = tokenizer(dataset['episode_description'][i]).numpy()\n",
    "        tokenized_show = tokenizer(dataset['show_description'][i]).numpy()\n",
    "        # index of meaningful tokens\n",
    "        index_description = np.nonzero(tokenized_description)[0]\n",
    "        index_show = np.nonzero(tokenized_show)[0]\n",
    "        # meaningful tokens\n",
    "        description = tokenized_description[index_description]\n",
    "        show = tokenized_show[index_show]\n",
    "        # if the shortest sequence is a small fraction wrt the percentage threshold and the description\n",
    "        # it is possible to be sure it will not overlap\n",
    "        if len(show) / len(description) <= percentage:\n",
    "            continue\n",
    "        else:\n",
    "            # comparison of all possible matches\n",
    "            j = 0\n",
    "            while j <= len(description) - len(show):\n",
    "                # comparison between episode description and show description\n",
    "                common_index = (description[j:j+len(show)] == show)\n",
    "                overlap = len(common_index) / len(description)\n",
    "                if overlap > percentage:\n",
    "                    dataset.drop([i], inplace=True)\n",
    "                    j = len(description) - len(show) + 1\n",
    "                else:\n",
    "                    j += 1\n",
    "    return dataset\n",
    "\n",
    "# Testing\n",
    "data = [[\"this is gonna be an overlapping\", \"this is gonna be an overlapping, trust me\"],\n",
    "        [\"this will not be an overlapping\", \"this will not be an overlapping sentence because the content is much different between the two descriptions\"]]\n",
    "\n",
    "vectorizer = tf.keras.layers.TextVectorization(max_tokens=VOCAB_SIZE, output_mode='int', output_sequence_length=SEQUENCE_LENGTH)\n",
    "vectorizer.adapt(np.array(data).flatten())\n",
    "\n",
    "df = pd.DataFrame(data, columns=['show_description', 'episode_description'])\n",
    "\n",
    "brass_overlap_show(df, vectorizer)"
   ]
  },
  {
   "cell_type": "code",
   "execution_count": null,
   "metadata": {},
   "outputs": [],
   "source": [
    "def brass_overlap_descriptions(dataset, tokenizer, percentage=0.5):\n",
    "    \"\"\"\n",
    "    Delete from the dataset podcast having a description which overlaps over percentage another description\n",
    "    Parameters:\n",
    "        - dataset: dataset: pandas dataframe containing transcript and summary for each podcast\n",
    "        - tokenizer: tokenizer to use for tokenize the descriptions\n",
    "        - percentage: threshold to discard the podcast\n",
    "    Returns:\n",
    "        - cleaned dataset\n",
    "    \"\"\"\n",
    "    rows = dataset.shape[0]\n",
    "    deleted_podcast_idx = set()\n",
    "    for i in range(rows):\n",
    "        # if the podcast has been already excluded, do not consider it\n",
    "        if i in deleted_podcast_idx:\n",
    "            continue\n",
    "        else:\n",
    "            for j in range(i+1, rows):\n",
    "                if j in deleted_podcast_idx:\n",
    "                    continue\n",
    "                else:\n",
    "                    \n",
    "                    tokenized_description_one = tokenizer(dataset['episode_description'][i]).numpy()\n",
    "                    tokenized_description_two = tokenizer(dataset['episode_description'][j]).numpy()\n",
    "                    # index of meaningful tokens\n",
    "                    index_one = np.nonzero(tokenized_description_one)[0]\n",
    "                    index_two = np.nonzero(tokenized_description_two)[0]\n",
    "                    # meaningful tokens\n",
    "                    description_one = tokenized_description_one[index_one]\n",
    "                    description_two = tokenized_description_two[index_two]\n",
    "                    # comparison between episode descriptions\n",
    "                    n = min(len(description_one), len(description_two))\n",
    "                    common_index = (description_one[:n] == description_two[:n])\n",
    "                    overlap = len(common_index) / max(len(description_one), len(description_two))\n",
    "                    if overlap > percentage:\n",
    "                        deleted_podcast_idx.add(j)\n",
    "\n",
    "    dataset.drop(list(deleted_podcast_idx), inplace=True)\n",
    "    return dataset\n",
    "\n",
    "# Testing\n",
    "        \n"
   ]
  }
 ],
 "metadata": {
  "interpreter": {
   "hash": "ab884b33d03d1f4f0b5b9ddc07999c1cc85e059cce1c6f86284d4d556668cf44"
  },
  "kernelspec": {
   "display_name": "Python 3.7.6 64-bit",
   "language": "python",
   "name": "python3"
  },
  "language_info": {
   "codemirror_mode": {
    "name": "ipython",
    "version": 3
   },
   "file_extension": ".py",
   "mimetype": "text/x-python",
   "name": "python",
   "nbconvert_exporter": "python",
   "pygments_lexer": "ipython3",
   "version": "3.7.6"
  },
  "orig_nbformat": 4
 },
 "nbformat": 4,
 "nbformat_minor": 2
}
