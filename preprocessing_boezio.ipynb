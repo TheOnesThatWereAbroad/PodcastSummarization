{
 "cells": [
  {
   "cell_type": "code",
   "execution_count": 1,
   "metadata": {},
   "outputs": [],
   "source": [
    "import pandas as pd\n",
    "import tensorflow as tf\n",
    "import numpy as np"
   ]
  },
  {
   "cell_type": "code",
   "execution_count": 2,
   "metadata": {},
   "outputs": [],
   "source": [
    "VOCAB_SIZE = 5000\n",
    "SEQUENCE_LENGTH = 1200"
   ]
  },
  {
   "cell_type": "markdown",
   "metadata": {},
   "source": [
    "Brass set described in the paper\n",
    "1) descriptions that are very long (> 750 characters) or short (< 20 characters)\n",
    "2) descriptions with high lexical overlap (over 40%) with their show description\n",
    "3) descriptions with high lexical overlap (over 50%) with other episode descriptions"
   ]
  },
  {
   "cell_type": "code",
   "execution_count": 34,
   "metadata": {},
   "outputs": [
    {
     "data": {
      "text/html": [
       "<div>\n",
       "<style scoped>\n",
       "    .dataframe tbody tr th:only-of-type {\n",
       "        vertical-align: middle;\n",
       "    }\n",
       "\n",
       "    .dataframe tbody tr th {\n",
       "        vertical-align: top;\n",
       "    }\n",
       "\n",
       "    .dataframe thead th {\n",
       "        text-align: right;\n",
       "    }\n",
       "</style>\n",
       "<table border=\"1\" class=\"dataframe\">\n",
       "  <thead>\n",
       "    <tr style=\"text-align: right;\">\n",
       "      <th></th>\n",
       "      <th>transcript</th>\n",
       "      <th>description</th>\n",
       "    </tr>\n",
       "  </thead>\n",
       "  <tbody>\n",
       "    <tr>\n",
       "      <th>0</th>\n",
       "      <td>transcript one</td>\n",
       "      <td>this is the first summary of a podcast. I need...</td>\n",
       "    </tr>\n",
       "  </tbody>\n",
       "</table>\n",
       "</div>"
      ],
      "text/plain": [
       "       transcript                                        description\n",
       "0  transcript one  this is the first summary of a podcast. I need..."
      ]
     },
     "execution_count": 34,
     "metadata": {},
     "output_type": "execute_result"
    }
   ],
   "source": [
    "def brass_length(dataset, tokenizer, upp_bound=750, low_bound=20):\n",
    "    \"\"\"\n",
    "    Returns a dataset with less samples removing ones having descriptions that are very long (> 750 characters)\n",
    "    or short (< 20 characters)\n",
    "    Parameters:\n",
    "        - dataset: pandas dataframe containing transcript and summary for each podcast\n",
    "        - tokenizer: tokenizer to use for tokenize the description\n",
    "        - upp_bound: maximum number of characters in the description\n",
    "        - low_bound: minimum number of characters in the description\n",
    "    Returns:\n",
    "        - subset of the dataset applying the aforementioned filter\n",
    "    \"\"\"\n",
    "    rows = dataset.shape[0]\n",
    "    for i in range(rows):\n",
    "        tokenized_description = tokenizer(dataset['episode_description'][i])\n",
    "        tokenized_description = np.nonzero(tokenized_description.numpy())[0]\n",
    "        if len(tokenized_description) > upp_bound or len(tokenized_description) < low_bound:\n",
    "            dataset.drop([i], inplace=True)\n",
    "\n",
    "    return dataset\n",
    "\n",
    "# testing\n",
    "data = [[\"transcript one\", \"this is the first summary of a podcast. I need to reach at least twenty \" \\\n",
    "        \"characters. It is not enough, I need to add other characters.\"], ['transcript 2', 'too short, it must be removed']]\n",
    "\n",
    "vectorizer = tf.keras.layers.TextVectorization(max_tokens=VOCAB_SIZE, output_mode='int', output_sequence_length=SEQUENCE_LENGTH)\n",
    "vectorizer.adapt(np.array(data).flatten())\n",
    "\n",
    "df = pd.DataFrame(data, columns=['episode_transcript', 'episode_description'])\n",
    "\n",
    "brass_length(df, vectorizer)\n"
   ]
  },
  {
   "cell_type": "code",
   "execution_count": 3,
   "metadata": {},
   "outputs": [
    {
     "data": {
      "text/html": [
       "<div>\n",
       "<style scoped>\n",
       "    .dataframe tbody tr th:only-of-type {\n",
       "        vertical-align: middle;\n",
       "    }\n",
       "\n",
       "    .dataframe tbody tr th {\n",
       "        vertical-align: top;\n",
       "    }\n",
       "\n",
       "    .dataframe thead th {\n",
       "        text-align: right;\n",
       "    }\n",
       "</style>\n",
       "<table border=\"1\" class=\"dataframe\">\n",
       "  <thead>\n",
       "    <tr style=\"text-align: right;\">\n",
       "      <th></th>\n",
       "      <th>show_description</th>\n",
       "      <th>episode_description</th>\n",
       "    </tr>\n",
       "  </thead>\n",
       "  <tbody>\n",
       "    <tr>\n",
       "      <th>1</th>\n",
       "      <td>this will not be an overlapping</td>\n",
       "      <td>this will not be an overlapping sentence becau...</td>\n",
       "    </tr>\n",
       "  </tbody>\n",
       "</table>\n",
       "</div>"
      ],
      "text/plain": [
       "                  show_description  \\\n",
       "1  this will not be an overlapping   \n",
       "\n",
       "                                 episode_description  \n",
       "1  this will not be an overlapping sentence becau...  "
      ]
     },
     "execution_count": 3,
     "metadata": {},
     "output_type": "execute_result"
    }
   ],
   "source": [
    "def brass_overlap_show(dataset, tokenizer, percentage=0.4):\n",
    "    \"\"\"\n",
    "    Delete from the dataset podcast having a description which overlaps over percentage the show description\n",
    "    Parameters:\n",
    "        - dataset: dataset: pandas dataframe containing transcript and summary for each podcast\n",
    "        - tokenizer: tokenizer to use for tokenize the description and the show description\n",
    "        - percentage: threshold to discard the podcast\n",
    "    Returns:\n",
    "        - cleaned dataset\n",
    "    \"\"\"\n",
    "    rows = dataset.shape[0]\n",
    "    for i in range(rows):\n",
    "        tokenized_description = tokenizer(dataset['episode_description'][i]).numpy()\n",
    "        tokenized_show = tokenizer(dataset['show_description'][i]).numpy()\n",
    "        # index of meaningful tokens\n",
    "        index_description = np.nonzero(tokenized_description)[0]\n",
    "        index_show = np.nonzero(tokenized_show)[0]\n",
    "        # meaningful tokens\n",
    "        description = tokenized_description[index_description]\n",
    "        show = tokenized_show[index_show]\n",
    "        # if the shortest sequence is a small fraction wrt the percentage threshold and the description\n",
    "        # it is possible to be sure it will not overlap\n",
    "        if len(show) / len(description) <= percentage:\n",
    "            continue\n",
    "        else:\n",
    "            # comparison of all possible matches\n",
    "            j = 0\n",
    "            while j <= len(description) - len(show):\n",
    "                # comparison between episode description and show description\n",
    "                common_index = (description[j:j+len(show)] == show)\n",
    "                overlap = len(common_index) / len(description)\n",
    "                if overlap > percentage:\n",
    "                    dataset.drop([i], inplace=True)\n",
    "                    j = len(description) - len(show) + 1\n",
    "                else:\n",
    "                    j += 1\n",
    "    return dataset\n",
    "\n",
    "# Testing\n",
    "data = [[\"this is gonna be an overlapping\", \"this is gonna be an overlapping, trust me\"],\n",
    "        [\"this will not be an overlapping\", \"this will not be an overlapping sentence because the content is much different between the two descriptions\"]]\n",
    "\n",
    "vectorizer = tf.keras.layers.TextVectorization(max_tokens=VOCAB_SIZE, output_mode='int', output_sequence_length=SEQUENCE_LENGTH)\n",
    "vectorizer.adapt(np.array(data).flatten())\n",
    "\n",
    "df = pd.DataFrame(data, columns=['show_description', 'episode_description'])\n",
    "\n",
    "brass_overlap_show(df, vectorizer)"
   ]
  },
  {
   "cell_type": "code",
   "execution_count": null,
   "metadata": {},
   "outputs": [],
   "source": [
    "def brass_overlap_descriptions(dataset, tokenizer, percentage=0.5):\n",
    "    \"\"\"\n",
    "    Delete from the dataset podcast having a description which overlaps over percentage another description\n",
    "    Parameters:\n",
    "        - dataset: dataset: pandas dataframe containing transcript and summary for each podcast\n",
    "        - tokenizer: tokenizer to use for tokenize the descriptions\n",
    "        - percentage: threshold to discard the podcast\n",
    "    Returns:\n",
    "        - cleaned dataset\n",
    "    \"\"\"\n",
    "    rows = dataset.shape[0]\n",
    "    deleted_podcast_idx = set()\n",
    "    for i in range(rows):\n",
    "        # if the podcast has been already excluded, do not consider it\n",
    "        if i in deleted_podcast_idx:\n",
    "            continue\n",
    "        else:\n",
    "            for j in range(i+1, rows):\n",
    "                if j in deleted_podcast_idx:\n",
    "                    continue\n",
    "                else:\n",
    "                    tokenized_description_one = tokenizer(dataset['episode_description'][i]).numpy()\n",
    "                    tokenized_description_two = tokenizer(dataset['episode_description'][j]).numpy()\n",
    "                    # index of meaningful tokens\n",
    "                    index_one = np.nonzero(tokenized_description_one)[0]\n",
    "                    index_two = np.nonzero(tokenized_description_two)[0]\n",
    "                    # meaningful tokens\n",
    "                    description_one = tokenized_description_one[index_one]\n",
    "                    description_two = tokenized_description_two[index_two]\n",
    "                    # comparison between episode descriptions\n",
    "                    n = min(len(description_one), len(description_two))\n",
    "                    common_index = (description_one[:n] == description_two[:n])\n",
    "                    overlap = len(common_index) / max(len(description_one), len(description_two))\n",
    "                    if overlap > percentage:\n",
    "                        deleted_podcast_idx.add(j)\n",
    "\n",
    "    dataset.drop(list(deleted_podcast_idx), inplace=True)\n",
    "    return dataset\n",
    "\n",
    "# Testing\n",
    "        \n"
   ]
  }
 ],
 "metadata": {
  "interpreter": {
   "hash": "ab884b33d03d1f4f0b5b9ddc07999c1cc85e059cce1c6f86284d4d556668cf44"
  },
  "kernelspec": {
   "display_name": "Python 3.7.6 64-bit",
   "language": "python",
   "name": "python3"
  },
  "language_info": {
   "codemirror_mode": {
    "name": "ipython",
    "version": 3
   },
   "file_extension": ".py",
   "mimetype": "text/x-python",
   "name": "python",
   "nbconvert_exporter": "python",
   "pygments_lexer": "ipython3",
   "version": "3.7.6"
  },
  "orig_nbformat": 4
 },
 "nbformat": 4,
 "nbformat_minor": 2
}
