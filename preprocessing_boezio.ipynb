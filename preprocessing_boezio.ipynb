{
 "cells": [
  {
   "cell_type": "code",
   "execution_count": 8,
   "metadata": {},
   "outputs": [],
   "source": [
    "import pandas as pd\n",
    "import tensorflow as tf\n",
    "import numpy as np"
   ]
  },
  {
   "cell_type": "code",
   "execution_count": 4,
   "metadata": {},
   "outputs": [],
   "source": [
    "VOCAB_SIZE = 5000\n",
    "SEQUENCE_LENGTH = 1200"
   ]
  },
  {
   "cell_type": "markdown",
   "metadata": {},
   "source": [
    "Brass set described in the paper\n",
    "1) descriptions that are very long (> 750 characters) or short (< 20 characters)"
   ]
  },
  {
   "cell_type": "code",
   "execution_count": 21,
   "metadata": {},
   "outputs": [
    {
     "data": {
      "text/html": [
       "<div>\n",
       "<style scoped>\n",
       "    .dataframe tbody tr th:only-of-type {\n",
       "        vertical-align: middle;\n",
       "    }\n",
       "\n",
       "    .dataframe tbody tr th {\n",
       "        vertical-align: top;\n",
       "    }\n",
       "\n",
       "    .dataframe thead th {\n",
       "        text-align: right;\n",
       "    }\n",
       "</style>\n",
       "<table border=\"1\" class=\"dataframe\">\n",
       "  <thead>\n",
       "    <tr style=\"text-align: right;\">\n",
       "      <th></th>\n",
       "      <th>transcript</th>\n",
       "      <th>description</th>\n",
       "    </tr>\n",
       "  </thead>\n",
       "  <tbody>\n",
       "  </tbody>\n",
       "</table>\n",
       "</div>"
      ],
      "text/plain": [
       "Empty DataFrame\n",
       "Columns: [transcript, description]\n",
       "Index: []"
      ]
     },
     "execution_count": 21,
     "metadata": {},
     "output_type": "execute_result"
    }
   ],
   "source": [
    "def brass_length(dataset, tokenizer, upp_bound=750, low_bound=20):\n",
    "    \"\"\"\n",
    "    Returns a dataset with less samples removing ones having descriptions that are very long (> 750 characters)\n",
    "    or short (< 20 characters)\n",
    "    Parameters:\n",
    "        - dataset: pandas dataframe containing transcript and summary for each podcast\n",
    "        - tokenizer: tokenizer to use for tokenize the description\n",
    "        - upp_bound: maximum number of characters in the description\n",
    "        - low_bound: minimum number of characters in the description\n",
    "    Returns:\n",
    "        - subset of the dataset applying the aforementioned filter\n",
    "    \"\"\"\n",
    "    rows = dataset.shape[0]\n",
    "    for i in range(rows):\n",
    "        tokenized_description = tokenizer(dataset['description'][i])\n",
    "        tokenized_description = np.nonzero(tokenized_description.numpy())\n",
    "        print(tokenized_description)\n",
    "        if len(tokenized_description) > upp_bound or len(tokenized_description) < low_bound:\n",
    "            dataset.drop([i], inplace=True)\n",
    "\n",
    "    return dataset\n",
    "\n",
    "# testing\n",
    "data = [[\"transcript one\", \"this is the first summary of a podcast. I need to reach at least twenty \" \\\n",
    "        \"characters. It is not enough, I need to add other characters.\"], ['transcript 2', 'too short, it must be removed']]\n",
    "\n",
    "vectorizer = tf.keras.layers.TextVectorization(max_tokens=VOCAB_SIZE, output_mode='int', output_sequence_length=SEQUENCE_LENGTH)\n",
    "vectorizer.adapt(np.array(data).flatten())\n",
    "\n",
    "df = pd.DataFrame(data, columns=['transcript', 'description'])\n",
    "\n",
    "brass_length(df, vectorizer)\n"
   ]
  }
 ],
 "metadata": {
  "interpreter": {
   "hash": "7845f4a5515a78a9f91cc9b9f963ac69a8eb4541851448ee62f001dbf9618064"
  },
  "kernelspec": {
   "display_name": "Python 3.7.6 64-bit",
   "language": "python",
   "name": "python3"
  },
  "language_info": {
   "codemirror_mode": {
    "name": "ipython",
    "version": 3
   },
   "file_extension": ".py",
   "mimetype": "text/x-python",
   "name": "python",
   "nbconvert_exporter": "python",
   "pygments_lexer": "ipython3",
   "version": "3.7.6"
  },
  "orig_nbformat": 4
 },
 "nbformat": 4,
 "nbformat_minor": 2
}
