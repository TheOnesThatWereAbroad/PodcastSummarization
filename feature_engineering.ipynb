{
 "cells": [
  {
   "cell_type": "code",
   "execution_count": 10,
   "metadata": {},
   "outputs": [],
   "source": [
    "from abc import ABC, abstractmethod\n",
    "import numpy as np"
   ]
  },
  {
   "cell_type": "code",
   "execution_count": 9,
   "metadata": {},
   "outputs": [],
   "source": [
    "class TextFeatureExtractor(ABC):\n",
    "    \"\"\"Abstract class to describe a generic extraction of a feature starting from some text\"\"\"\n",
    "\n",
    "    @abstractmethod\n",
    "    def __init__(self, text, **kwargs):\n",
    "        \"\"\"Initialize the extractor with the raw text and other parameters which depend on the extractor\n",
    "        Parameters:\n",
    "        - text: raw input to extract feature from\n",
    "        - **kwargs: dictionary containing specific extractor parameters\n",
    "        \"\"\"\n",
    "        pass\n",
    "\n",
    "    @abstractmethod\n",
    "    def extract(self):\n",
    "        \"\"\"Extract the feature from the input text\n",
    "        Return: an array containing the extracted features\n",
    "        \"\"\"\n",
    "        pass"
   ]
  }
 ],
 "metadata": {
  "interpreter": {
   "hash": "7845f4a5515a78a9f91cc9b9f963ac69a8eb4541851448ee62f001dbf9618064"
  },
  "kernelspec": {
   "display_name": "Python 3.7.6 64-bit",
   "language": "python",
   "name": "python3"
  },
  "language_info": {
   "codemirror_mode": {
    "name": "ipython",
    "version": 3
   },
   "file_extension": ".py",
   "mimetype": "text/x-python",
   "name": "python",
   "nbconvert_exporter": "python",
   "pygments_lexer": "ipython3",
   "version": "3.7.6"
  },
  "orig_nbformat": 4
 },
 "nbformat": 4,
 "nbformat_minor": 2
}
