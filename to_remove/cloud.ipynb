{
 "cells": [
  {
   "cell_type": "markdown",
   "metadata": {},
   "source": [
    "#  Abstractive Summarization of Long Podcast Transcripts with BART using Semantic Self-segmentation\n",
    "Podcasts are a rapidly growing medium for news, commentary, entertainment, and learning.  Some podcast shows release new episodes on a regular schedule (daily, weekly, etc); others irregularly.  Some podcast shows feature short episodes of 5 minutes or less touching on one or two topics; others may release 3+ hour long episodes touching on a wide range of topics.  Some are structured as news delivery, some as conversations, some as storytelling.\n",
    "\n",
    "Given a podcast episode, its audio, and transcription, return a short text snippet capturing the most important information in the content. Returned summaries should be grammatical, standalone statement of significantly shorter length than the input episode description.\n",
    "\n",
    "The user task is to provide a short text summary that the user might read when deciding whether to listen to a podcast. Thus the summary should accurately convey the content of the podcast, and be short enough to quickly read on a smartphone screen. It should also be human-readable.\n",
    "\n",
    "For further information about the challenge, take a look to Podcasts Track Guidelines:\n",
    "- [TREC 2020 Podcasts Track](https://trecpodcasts.github.io/participant-instructions-2020.html)"
   ]
  },
  {
   "cell_type": "code",
   "execution_count": null,
   "metadata": {},
   "outputs": [],
   "source": [
    "from transformers import AutoTokenizer, AutoModelForSeq2SeqLM\n",
    "\n",
    "tokenizer = AutoTokenizer.from_pretrained(\"gmurro/bart-large-finetuned-filtered-spotify-podcast-summ\")\n",
    "model = AutoModelForSeq2SeqLM.from_pretrained(\"gmurro/bart-large-finetuned-filtered-spotify-podcast-summ\", from_tf=True)"
   ]
  },
  {
   "cell_type": "code",
   "execution_count": 1,
   "metadata": {},
   "outputs": [
    {
     "name": "stderr",
     "output_type": "stream",
     "text": [
      "[nltk_data] Downloading package punkt to\n",
      "[nltk_data]     C:\\Users\\peppe\\AppData\\Roaming\\nltk_data...\n",
      "[nltk_data]   Package punkt is already up-to-date!\n"
     ]
    },
    {
     "data": {
      "text/plain": [
       "True"
      ]
     },
     "execution_count": 1,
     "metadata": {},
     "output_type": "execute_result"
    }
   ],
   "source": [
    "import numpy as np\n",
    "import os\n",
    "import pandas as pd\n",
    "import regex as re\n",
    "import datetime\n",
    "import matplotlib.pyplot as plt\n",
    "from tqdm import tqdm\n",
    "from difflib import SequenceMatcher\n",
    "from collections import Counter\n",
    "from functools import partial\n",
    "\n",
    "import tensorflow as tf\n",
    "from tensorflow import keras\n",
    "from tensorflow.keras.callbacks import TensorBoard\n",
    "\n",
    "import pysbd\n",
    "import nltk\n",
    "from nltk.tokenize import word_tokenize\n",
    "from nltk.corpus import words\n",
    "from nltk.corpus import stopwords\n",
    "from sentence_transformers import SentenceTransformer, util\n",
    "from datasets import Dataset\n",
    "from datasets import load_dataset\n",
    "from datasets import load_metric\n",
    "from transformers import AutoTokenizer\n",
    "from transformers import AdamWeightDecay\n",
    "from transformers import TFAutoModelForSeq2SeqLM, DataCollatorForSeq2Seq\n",
    "from transformers.keras_callbacks import KerasMetricCallback, PushToHubCallback\n",
    "\n",
    "from transcript_utils import get_transcription, semantic_segmentation, extract_features\n",
    "\n",
    "# Register `pandas.progress_apply` and `pandas.Series.map_apply` with `tqdm`\n",
    "tqdm.pandas()\n",
    "\n",
    "nltk.download('punkt')"
   ]
  },
  {
   "cell_type": "code",
   "execution_count": 2,
   "metadata": {},
   "outputs": [
    {
     "data": {
      "application/vnd.jupyter.widget-view+json": {
       "model_id": "f5b23d6db95547f6a6377765ff768847",
       "version_major": 2,
       "version_minor": 0
      },
      "text/plain": [
       "VBox(children=(HTML(value='<center> <img\\nsrc=https://huggingface.co/front/assets/huggingface_logo-noborder.sv…"
      ]
     },
     "metadata": {},
     "output_type": "display_data"
    },
    {
     "name": "stdout",
     "output_type": "stream",
     "text": [
      "Updated git hooks.\n",
      "Git LFS initialized.\n"
     ]
    }
   ],
   "source": [
    "# login to the huggingface hub, necessary only to push the fine-tuned model to the hub\n",
    "from huggingface_hub import notebook_login\n",
    "notebook_login()\n",
    "!git lfs install"
   ]
  },
  {
   "cell_type": "markdown",
   "metadata": {},
   "source": [
    "## 1. Dataset preparation"
   ]
  },
  {
   "cell_type": "markdown",
   "metadata": {},
   "source": [
    "### 1.1 Dataset reading"
   ]
  },
  {
   "cell_type": "code",
   "execution_count": 4,
   "metadata": {},
   "outputs": [
    {
     "name": "stdout",
     "output_type": "stream",
     "text": [
      "Columns:  Index(['show_uri', 'show_name', 'show_description', 'publisher', 'language',\n",
      "       'rss_link', 'episode_uri', 'episode_name', 'episode_description',\n",
      "       'duration', 'show_filename_prefix', 'episode_filename_prefix'],\n",
      "      dtype='object')\n",
      "Shape:  (105360, 12)\n"
     ]
    }
   ],
   "source": [
    "dataset_path = os.path.join(os.path.abspath(\"\"), 'podcasts-no-audio-13GB')\n",
    "\n",
    "metadata_path_train = os.path.join(dataset_path, 'metadata.tsv')\n",
    "metadata_train = pd.read_csv(metadata_path_train, sep='\\t')\n",
    "print(\"Columns: \", metadata_train.columns)\n",
    "print(\"Shape: \", metadata_train.shape)"
   ]
  },
  {
   "cell_type": "markdown",
   "metadata": {},
   "source": [
    "### 1.2 Dataset analysis"
   ]
  },
  {
   "cell_type": "code",
   "execution_count": 6,
   "metadata": {},
   "outputs": [
    {
     "name": "stdout",
     "output_type": "stream",
     "text": [
      "Statistics about episode duration:\n",
      "count    105360.000000\n",
      "mean         33.845715\n",
      "std          22.735674\n",
      "min           0.175317\n",
      "25%          13.552638\n",
      "50%          31.643375\n",
      "75%          50.446825\n",
      "max         304.953900\n",
      "Name: duration, dtype: float64\n"
     ]
    },
    {
     "data": {
      "image/png": "[encoded data removed]",
      "text/plain": [
       "<Figure size 720x360 with 1 Axes>"
      ]
     },
     "metadata": {
      "needs_background": "light"
     },
     "output_type": "display_data"
    }
   ],
   "source": [
    "print(\"Statistics about episode duration:\\n\"\n",
    "      f\"{metadata_train['duration'].describe()}\")\n",
    "metadata_train['duration'].hist(bins=1000, figsize=(10,5), log=True)\n",
    "plt.show()"
   ]
  },
  {
   "cell_type": "code",
   "execution_count": 5,
   "metadata": {},
   "outputs": [
    {
     "name": "stdout",
     "output_type": "stream",
     "text": [
      "Statistics about number of episodes per show:\n",
      "count    18376.000000\n",
      "mean         5.733566\n",
      "std         19.310585\n",
      "min          1.000000\n",
      "25%          1.000000\n",
      "50%          2.000000\n",
      "75%          4.000000\n",
      "max       1072.000000\n",
      "dtype: float64\n"
     ]
    },
    {
     "data": {
      "image/png": "[encoded data removed]",
      "text/plain": [
       "<Figure size 720x360 with 1 Axes>"
      ]
     },
     "metadata": {
      "needs_background": "light"
     },
     "output_type": "display_data"
    }
   ],
   "source": [
    "show_episodes = metadata_train.groupby(['show_filename_prefix']).apply(lambda x: list(zip(x['episode_filename_prefix'], x['episode_description']))).to_dict()\n",
    "show_n_episodes = {k: len(v) for k, v in show_episodes.items()}\n",
    "print(\"Statistics about number of episodes per show:\\n\"\n",
    "      f\"{pd.Series(show_n_episodes.values()).describe()}\")\n",
    "pd.Series(show_n_episodes.values()).hist(bins=1000, figsize=(10,5), log=True)\n",
    "plt.show()"
   ]
  },
  {
   "cell_type": "markdown",
   "metadata": {},
   "source": [
    "### 1.3 Description cleaning\n",
    "We filtered the descriptions to establish a subset that is more appropriate as a ground truth set compared to full set of descriptions.\n",
    "\n",
    "First of all, some of the episodes contain a `NaN` value in the `episode_description` and `show_description` columns. Let's remove them."
   ]
  },
  {
   "cell_type": "code",
   "execution_count": 90,
   "metadata": {},
   "outputs": [
    {
     "name": "stdout",
     "output_type": "stream",
     "text": [
      "Before dropping NaN values: \n",
      " show_uri                   False\n",
      "show_name                  False\n",
      "show_description            True\n",
      "publisher                  False\n",
      "language                   False\n",
      "rss_link                   False\n",
      "episode_uri                False\n",
      "episode_name               False\n",
      "episode_description         True\n",
      "duration                   False\n",
      "show_filename_prefix       False\n",
      "episode_filename_prefix    False\n",
      "dtype: bool\n",
      "\n",
      "After dropping NaN values:\n",
      " show_uri                   False\n",
      "show_name                  False\n",
      "show_description           False\n",
      "publisher                  False\n",
      "language                   False\n",
      "rss_link                   False\n",
      "episode_uri                False\n",
      "episode_name               False\n",
      "episode_description        False\n",
      "duration                   False\n",
      "show_filename_prefix       False\n",
      "episode_filename_prefix    False\n",
      "dtype: bool\n"
     ]
    }
   ],
   "source": [
    "print(\"Before dropping NaN values: \\n\", metadata_train.isna().any())\n",
    "metadata_train.dropna(subset=['episode_description', 'show_description'], inplace=True)\n",
    "print(\"\\nAfter dropping NaN values:\\n\", metadata_train.isna().any())"
   ]
  },
  {
   "cell_type": "markdown",
   "metadata": {},
   "source": [
    "It is also available a *gold dataset* of 150 episodes composed by 6 set of summaries for each episode (900 document-summary-grade triplets) that were graded on the Bad/Fair/Good/Excellent scale (0-3).\n",
    "Before starting the cleaning process, we merged this gold dataset with the dataset we are going to clean, and the best summary of each episode will be considered."
   ]
  },
  {
   "cell_type": "code",
   "execution_count": 91,
   "metadata": {},
   "outputs": [],
   "source": [
    "metadata_path_gold = os.path.join(dataset_path, '150gold.tsv')\n",
    "metadata_gold = pd.read_csv(metadata_path_gold, sep='\\t')\n",
    "\n",
    "quality = {\n",
    "    'B': 1,\n",
    "    'F': 2,\n",
    "    'G': 3,\n",
    "    'E': 4\n",
    "}\n",
    "\n",
    "# convert egfb columns to a quality score\n",
    "egfb_columns = ['EGFB', 'EGFB.1', 'EGFB.2', 'EGFB.3', 'EGFB.4', 'EGFB.5']\n",
    "egfb_to_quality = metadata_gold[egfb_columns].applymap(lambda x: quality[x])\n",
    "\n",
    "# remove rows with no quality > 1\n",
    "egfb_to_quality = egfb_to_quality[[any(row > 1) for row in egfb_to_quality.values]] \n",
    "\n",
    "# select the best transcript for each episode\n",
    "best_egfb = egfb_to_quality.apply(lambda x: x.idxmax(), axis=1)\n",
    "best_summary = [metadata_gold.iloc[i, np.argwhere(metadata_gold.columns == egfb)[0][0] - 1] for i, egfb in best_egfb.iteritems()]\n",
    "\n",
    "metadata_gold = metadata_gold.loc[best_egfb.index]\n",
    "metadata_gold['best_summary'] = best_summary\n",
    "\n",
    "# create a dictionary of the best summary for each episode\n",
    "gold_summaries = {row['episode id']: row['best_summary'] for i, row in metadata_gold.iterrows()}"
   ]
  },
  {
   "cell_type": "code",
   "execution_count": 92,
   "metadata": {},
   "outputs": [],
   "source": [
    "# substitute the episode descriptions correspondent to the episodes in the gold set with the best summary\n",
    "for i, row in metadata_train.iterrows():\n",
    "    if row['episode_uri'] in gold_summaries.keys():\n",
    "        metadata_train.at[i, 'episode_description'] = gold_summaries[row['episode_uri']]"
   ]
  },
  {
   "cell_type": "markdown",
   "metadata": {},
   "source": [
    "We strive to enhance the quality of creator descriptions using heuristics. In order to do that, the following cleaning steps are preformed:\n",
    "- remove sentences that contain URLs, email addresses in the episode descriptions\n",
    "- remove tokens corresponding to @mentions, #hashtags and emojii\n",
    "- removing the content after `\"---\"` that usually is a sponsorship or a boilerplate (e.g., “--- This episode is sponsored by ...” “--- Send in a voice message”)\n",
    "- identify sentences that contain not useful content and remove them from the descriptions. In order to do that, we compute a *salience score* for each sentence of the description by summing over word IDF scores. Then we remove sentences if their salience scores are lower than a threshold. \n"
   ]
  },
  {
   "cell_type": "code",
   "execution_count": 10,
   "metadata": {},
   "outputs": [
    {
     "name": "stderr",
     "output_type": "stream",
     "text": [
      "Computing word frequencies: 100%|██████████| 105153/105153 [07:58<00:00, 219.77it/s]\n"
     ]
    }
   ],
   "source": [
    "def compute_document_frequencies(descriptions):\n",
    "    \"\"\"\n",
    "    Compute the document frequencies in the whole dataset descriptions\n",
    "\n",
    "    Parameters\n",
    "    ----------\n",
    "    descriptions : list of str\n",
    "        The descriptions of the episodes\n",
    "    \n",
    "    Returns\n",
    "    -------\n",
    "    A dictionary of word frequencies\n",
    "    \"\"\"\n",
    "    seg = pysbd.Segmenter(language=\"en\", clean=False)\n",
    "\n",
    "    # get a set of words contained in each description (words are all lowercase)\n",
    "    flattened_descriptions = []\n",
    "    for description in tqdm(descriptions, desc=\"Computing word frequencies\"):\n",
    "        description_set = set()\n",
    "        for sentence in seg.segment(description):\n",
    "            description_set.update([word.lower() for word in word_tokenize(sentence)])\n",
    "        flattened_descriptions.extend(list(description_set))\n",
    "            \n",
    "    counts = pd.Series(Counter(flattened_descriptions))  # Get counts and transform to Series\n",
    "    return counts\n",
    "\n",
    "# compute the document frequencies that will be used to compute the sentence salience score\n",
    "document_frequencies = compute_document_frequencies(metadata_train['episode_description'])"
   ]
  },
  {
   "cell_type": "code",
   "execution_count": 93,
   "metadata": {},
   "outputs": [],
   "source": [
    "# store the old dataframe to make comparisons\n",
    "metadata_train_old = metadata_train.copy()"
   ]
  },
  {
   "cell_type": "code",
   "execution_count": 94,
   "metadata": {},
   "outputs": [
    {
     "name": "stdout",
     "output_type": "stream",
     "text": [
      "\n",
      "Removing boilerplate from the episode descriptions:\n"
     ]
    },
    {
     "name": "stderr",
     "output_type": "stream",
     "text": [
      "100%|██████████| 105153/105153 [00:00<00:00, 120642.24it/s]\n"
     ]
    },
    {
     "name": "stdout",
     "output_type": "stream",
     "text": [
      "Removing links and sponsors from the episode descriptions:\n"
     ]
    },
    {
     "name": "stderr",
     "output_type": "stream",
     "text": [
      "100%|██████████| 105153/105153 [06:19<00:00, 276.95it/s]\n"
     ]
    },
    {
     "name": "stdout",
     "output_type": "stream",
     "text": [
      "Removing emojii from the episode descriptions:\n"
     ]
    },
    {
     "name": "stderr",
     "output_type": "stream",
     "text": [
      "100%|██████████| 105153/105153 [00:00<00:00, 124739.31it/s]\n"
     ]
    }
   ],
   "source": [
    "def remove_boilerplate(description):\n",
    "    \"\"\"\n",
    "    Remove boilerplate from the episode description\n",
    "\n",
    "    Parameters\n",
    "    ----------\n",
    "    description : str\n",
    "        The episode description\n",
    "\n",
    "    Returns\n",
    "    -------\n",
    "    A description without boilerplate (str)\n",
    "    \"\"\"\n",
    "    boilerplate_re = re.compile(r\"---.*\")\n",
    "    return boilerplate_re.sub(\"\", description)\n",
    "\n",
    "def remove_link_or_sponsors(description):\n",
    "    \"\"\"\n",
    "    Remove sentences containing links and sponsors or username and hashtag from the episode description\n",
    "\n",
    "    Parameters\n",
    "    ----------\n",
    "    description : str\n",
    "        The episode description\n",
    "\n",
    "    Returns\n",
    "    -------\n",
    "    A description without links and sponsors (str)\n",
    "    \"\"\"\n",
    "    username_and_hashtag_re = re.compile(r\"(\\B@\\w+|\\B#\\w+)\")\n",
    "    links_or_sponsors_re = re.compile(\n",
    "        r\"(http|https|[pP]atreon|[eE]mail|[dD]onate|IG|[iI]nstagram|[fF]acebook|[yY]outube|[tT]witter|[dD]iscord|[fF]ollow|[sS]potify)\"\n",
    "    )\n",
    "\n",
    "    # remove username and hashtag\n",
    "    description = username_and_hashtag_re.sub(\" \", description)\n",
    "\n",
    "    # remove sentences containing links and sponsors\n",
    "    seg = pysbd.Segmenter(language=\"en\", clean=False)\n",
    "    sentences = seg.segment(description)\n",
    "    sentences = [sentence for sentence in sentences if not links_or_sponsors_re.search(sentence)] \n",
    "    return \" \".join(sentences)\n",
    "\n",
    "def remove_emojii(description):\n",
    "    \"\"\"\n",
    "    Remove emojii from the episode description\n",
    "\n",
    "    Parameters\n",
    "    ----------\n",
    "    description : str\n",
    "        The episode description\n",
    "\n",
    "    Returns\n",
    "    -------\n",
    "    A description without emojii (str)\n",
    "    \"\"\"\n",
    "    emoji_re = re.compile(r\"[^\\x00-\\x7F]+\")\n",
    "    return emoji_re.sub(\" \", description)\n",
    "\n",
    "print(\"\\nRemoving boilerplate from the episode descriptions:\")\n",
    "metadata_train['episode_description'] = metadata_train['episode_description'].progress_map(remove_boilerplate)\n",
    "\n",
    "print(\"Removing links and sponsors from the episode descriptions:\")\n",
    "metadata_train['episode_description'] = metadata_train['episode_description'].progress_map(remove_link_or_sponsors)\n",
    "\n",
    "print(\"Removing emojii from the episode descriptions:\")\n",
    "metadata_train['episode_description'] = metadata_train['episode_description'].progress_map(remove_emojii)"
   ]
  },
  {
   "cell_type": "code",
   "execution_count": 79,
   "metadata": {},
   "outputs": [
    {
     "name": "stdout",
     "output_type": "stream",
     "text": [
      "\n",
      "Examples of comparisons before and after removing sponsors and links:\n",
      "BEFORE:\n",
      "\t- If you like ASMR you will love this White Noise Machine on Amazon! Tap here to check it out! If you enjoyed this make sure to give us a 5 star rating!  ---   This episode is sponsored by  · Anchor: The easiest way to make a podcast.  https://anchor.fm/app  Support this podcast: https://anchor.fm/AdamDino/support\n",
      "AFTER:\n",
      "\t- If you like ASMR you will love this White Noise Machine on Amazon!  Tap here to check it out!  If you enjoyed this make sure to give us a 5 star rating!  \n",
      "\n",
      "\n",
      "BEFORE:\n",
      "\t- Danielle and Jessi could talk your ears off when it comes to this topic. Episode 004 is all about their skincare routines, products they love, and tips and tricks for feeling radiant and confident in your own skin. Follow them @basicallyorganicpodcast (and @jessimechler @itsdaniellebridges) for tags of all the brands they’re currently loving! Rate and subscribe!!   ---   Support this podcast: https://anchor.fm/basicallyorganicpodcast/support\n",
      "AFTER:\n",
      "\t- Danielle and Jessi could talk your ears off when it comes to this topic.  Episode 004 is all about their skincare routines, products they love, and tips and tricks for feeling radiant and confident in your own skin.  Rate and subscribe!!   \n",
      "\n",
      "\n"
     ]
    }
   ],
   "source": [
    "# see a few examples of comparisons between the old and new descriptions\n",
    "samples = [137, 172]\n",
    "print(\"\\nExamples of comparisons before and after removing sponsors and links:\")\n",
    "for i in samples:\n",
    "        print(\"BEFORE:\" \n",
    "                f\"\\n\\t- {metadata_train_old['episode_description'].iloc[i]}\")\n",
    "        print(\"AFTER:\"\n",
    "                f\"\\n\\t- {metadata_train['episode_description'].iloc[i]}\")\n",
    "        print(\"\\n\")"
   ]
  },
  {
   "cell_type": "code",
   "execution_count": 95,
   "metadata": {},
   "outputs": [
    {
     "name": "stderr",
     "output_type": "stream",
     "text": [
      "100%|██████████| 105153/105153 [24:23<00:00, 71.84it/s] \n"
     ]
    }
   ],
   "source": [
    "def sentence_salience_score(sentence, num_descriptions, document_frequencies):\n",
    "    \"\"\"\n",
    "    Compute the salience score of a sentence by summing over word IDF scores.\n",
    "    Only alphabetic words that are longer that one character and are neither stop words nor words like 'episode' or 'podcast'\n",
    "    are considered when computing sentence salience scores.\n",
    "\n",
    "    Parameters\n",
    "    ----------\n",
    "    sentence : str\n",
    "        The sentence to compute the salience score for\n",
    "    num_descriptions : int\n",
    "        The number of descriptions in the dataset\n",
    "    document_frequencies : pandas.Series\n",
    "        The document frequencies in the whole dataset descriptions\n",
    "    \n",
    "    Returns\n",
    "    -------\n",
    "    The salience score of the sentence (float)\n",
    "    \"\"\"\n",
    "    idf_scores = []\n",
    "    tokenized_sentence = word_tokenize(sentence)\n",
    "\n",
    "    # compute IDF scores for each word in the sentence and sum them up \n",
    "    \n",
    "    for word in tokenized_sentence:\n",
    "        lower_world = word.lower()\n",
    "        # consider only alphabetic words, and remove stop words, single character\n",
    "        if lower_world in document_frequencies.keys() and lower_world.isalpha() and lower_world not in stopwords.words('english') and len(lower_world) > 1 and lower_world not in ['episode', 'podcast']:\n",
    "            # get document frequency\n",
    "            df = document_frequencies[lower_world]\n",
    "\n",
    "            # compute idf score\n",
    "            idf_score = np.log(num_descriptions/df)\n",
    "            idf_scores.append(idf_score)\n",
    "\n",
    "    idf_scores = np.array(idf_scores) \n",
    "    salience_score = idf_scores.mean() if len(idf_scores)>0 else 0.0\n",
    "    return salience_score\n",
    "\n",
    "def remove_unuseful_sentences(description, num_descriptions, word_frequencies, threshold=3.6):\n",
    "    \"\"\"\n",
    "    Remove sentences that are not useful for the transcriptions\n",
    "\n",
    "    Parameters\n",
    "    ----------\n",
    "    description : str\n",
    "        The episode description\n",
    "    num_descriptions : int\n",
    "        The number of descriptions in the dataset\n",
    "    word_frequencies : pandas.Series\n",
    "        The word frequencies in the whole dataset descriptions\n",
    "    threshold : double\n",
    "        The threshold for the salience score of a sentence to be considered useful\n",
    "\n",
    "    Returns\n",
    "    -------\n",
    "    A description without unuseful sentences (str)\n",
    "    \"\"\"\n",
    "    # segment the text into sentences\n",
    "    seg = pysbd.Segmenter(language=\"en\", clean=False)\n",
    "    sentences = seg.segment(description)\n",
    "    # remove sentences that are not useful for the transcriptions\n",
    "    sentences = [sentence for sentence in sentences if sentence_salience_score(sentence, num_descriptions, word_frequencies) > threshold]\n",
    "    return \" \".join(sentences)\n",
    "\n",
    "metadata_train['episode_description'] = metadata_train['episode_description'].progress_map(lambda x: remove_unuseful_sentences(x, metadata_train.shape[0], document_frequencies))"
   ]
  },
  {
   "cell_type": "code",
   "execution_count": 96,
   "metadata": {},
   "outputs": [
    {
     "name": "stdout",
     "output_type": "stream",
     "text": [
      "\n",
      "Examples of comparisons before and after removing sponsors and links:\n",
      "BEFORE:\n",
      "\t- If you like ASMR you will love this White Noise Machine on Amazon! Tap here to check it out! If you enjoyed this make sure to give us a 5 star rating!  ---   This episode is sponsored by  · Anchor: The easiest way to make a podcast.  https://anchor.fm/app  Support this podcast: https://anchor.fm/AdamDino/support\n",
      "AFTER:\n",
      "\t- If you like ASMR you will love this White Noise Machine on Amazon!   Tap here to check it out!  \n",
      "\n",
      "\n",
      "BEFORE:\n",
      "\t- Danielle and Jessi could talk your ears off when it comes to this topic. Episode 004 is all about their skincare routines, products they love, and tips and tricks for feeling radiant and confident in your own skin. Follow them @basicallyorganicpodcast (and @jessimechler @itsdaniellebridges) for tags of all the brands they’re currently loving! Rate and subscribe!!   ---   Support this podcast: https://anchor.fm/basicallyorganicpodcast/support\n",
      "AFTER:\n",
      "\t- Danielle and Jessi could talk your ears off when it comes to this topic.   Episode 004 is all about their skincare routines, products they love, and tips and tricks for feeling radiant and confident in your own skin.  \n",
      "\n",
      "\n"
     ]
    }
   ],
   "source": [
    "# see a few examples of comparisons between the old and new descriptions\n",
    "samples = [137, 172]\n",
    "print(\"\\nExamples of comparisons before and after removing unuseful sentences:\")\n",
    "for i in samples:\n",
    "        print(\"BEFORE:\" \n",
    "                f\"\\n\\t- {metadata_train_old['episode_description'].iloc[i]}\")\n",
    "        print(\"AFTER:\"\n",
    "                f\"\\n\\t- {metadata_train['episode_description'].iloc[i]}\")\n",
    "        print(\"\\n\")"
   ]
  },
  {
   "cell_type": "markdown",
   "metadata": {},
   "source": [
    "### 1.4 Episode selection\n",
    "In order to select a subset of the corpus that is suitable for training supervised models, we filtered the descriptions using three heuristics shown in the table below. These filters overlap to some extent, and remove about a third of the entire set. The remaining episodes we call the **Brass Set**.\n",
    "\n",
    "| Criterion                        | Threshold                                                    |\n",
    "| -------------------------------- | ------------------------------------------------------------ |\n",
    "| Length                           | descriptions that are very long (> 750 characters) or short (< 20 characters). |\n",
    "| Similarity to show description   | descriptions with high lexical overlap (over 50%) with their show description. |\n",
    "| Similarity to other descriptions | descriptions with high lexical overlap (over 60%) with other episode descriptions in the same show. |\n"
   ]
  },
  {
   "cell_type": "code",
   "execution_count": 112,
   "metadata": {},
   "outputs": [
    {
     "name": "stderr",
     "output_type": "stream",
     "text": [
      "100%|██████████| 105153/105153 [00:01<00:00, 77508.03it/s]\n"
     ]
    },
    {
     "name": "stdout",
     "output_type": "stream",
     "text": [
      "Removed 17108 episodes (16.27%) because of too long or too short descriptions\n"
     ]
    },
    {
     "name": "stderr",
     "output_type": "stream",
     "text": [
      "100%|██████████| 88045/88045 [01:16<00:00, 1157.95it/s]\n"
     ]
    },
    {
     "name": "stdout",
     "output_type": "stream",
     "text": [
      "Removed 1597 episodes (1.81%) because of too high overlap with the show description\n"
     ]
    },
    {
     "name": "stderr",
     "output_type": "stream",
     "text": [
      "100%|██████████| 86448/86448 [41:22<00:00, 34.82it/s]  "
     ]
    },
    {
     "name": "stdout",
     "output_type": "stream",
     "text": [
      "Removed 9033 episodes (10.45%) because of too high overlap with other descriptions in the same show\n"
     ]
    },
    {
     "name": "stderr",
     "output_type": "stream",
     "text": [
      "\n"
     ]
    }
   ],
   "source": [
    "def check_lenght_brass(episode, upper_bound=750, lower_bound=20):\n",
    "    \"\"\"\n",
    "    Check if the episode descriptions is not too long (> 750 characters) or not too short (< 20 characters)\n",
    "\n",
    "    Parameters\n",
    "    ----------\n",
    "    episode : pandas.Series\n",
    "        A row from the metadata file\n",
    "    upper_bound : int\n",
    "        The upper bound of the episode description length\n",
    "    lower_bound : int\n",
    "        The lower bound of the episode description length\n",
    "    \n",
    "    Returns\n",
    "    -------\n",
    "    Boolean indicating if the episode description is long enough\n",
    "    \"\"\"\n",
    "    return len(episode['episode_description']) <= upper_bound and len(episode['episode_description']) >= lower_bound\n",
    "    \n",
    "def description_similarity(a, b):\n",
    "    \"\"\"\n",
    "    Measure the overlapping between two descriptions\n",
    "\n",
    "    Parameters\n",
    "    ----------\n",
    "    a : str\n",
    "        The first description\n",
    "    b : str\n",
    "        The second description\n",
    "    \n",
    "    Returns\n",
    "    -------\n",
    "    Value indicating the overlapping between the two descriptions\n",
    "    \"\"\"\n",
    "    return SequenceMatcher(None, a, b).ratio()\n",
    "\n",
    "def check_show_description_overlap_brass(episode, thresh=0.5):\n",
    "    \"\"\"\n",
    "    Check if the episode descriptions overlapping with the show description is not too high (< 0.5)\n",
    "\n",
    "    Parameters\n",
    "    ----------\n",
    "    episode : pandas.Series\n",
    "        A row from the metadata file\n",
    "    thresh : float\n",
    "        The threshold of the overlap between the episode description and the show description\n",
    "\n",
    "    Returns\n",
    "    -------\n",
    "    Boolean indicating if the episode description is different enough from the show description\n",
    "    \"\"\"\n",
    "    return description_similarity(episode['show_description'], episode['episode_description']) < thresh\n",
    "    \n",
    "def check_other_description_overlap_brass(episode, show_episodes, thresh=0.6):\n",
    "    \"\"\"\n",
    "    Check if the episode descriptions overlapping with the other description in the same show is not too high (< 0.6)\n",
    "\n",
    "    Parameters\n",
    "    ----------\n",
    "    episode : pandas.Series\n",
    "        A row from the metadata file\n",
    "    show_episodes : dict\n",
    "        A dictionary of the episodes of the same show\n",
    "    thresh : float\n",
    "        The threshold of the overlap between the episode description and the other description\n",
    "    \n",
    "    Returns\n",
    "    -------\n",
    "    Boolean indicating if the episode description is different enough from the other description\n",
    "    \"\"\"\n",
    "    for other_prefix, other_description in show_episodes[episode['show_filename_prefix']]:\n",
    "        if other_prefix != episode['episode_filename_prefix'] and description_similarity(episode['episode_description'], other_description) > thresh and len(episode['episode_description']) < len(other_description):\n",
    "            return False\n",
    "    return True\n",
    "\n",
    "\n",
    "brass_set_lenght = metadata_train[metadata_train.progress_apply(check_lenght_brass, axis=1)]\n",
    "print(f\"Removed {len(metadata_train) - len(brass_set_lenght)} episodes ({(100-(len(brass_set_lenght)/len(metadata_train)*100)):.2f}%) because of too long or too short descriptions\")\n",
    "\n",
    "brass_set_show_overlap = brass_set_lenght[brass_set_lenght.progress_apply(check_show_description_overlap_brass, axis=1)]\n",
    "print(f\"Removed {len(brass_set_lenght) - len(brass_set_show_overlap)} episodes ({(100-(len(brass_set_show_overlap)/len(brass_set_lenght)*100)):.2f}%) because of too high overlap with the show description\")\n",
    "\n",
    "show_episodes = brass_set_show_overlap.groupby(['show_filename_prefix']).apply(lambda x: list(zip(x['episode_filename_prefix'], x['episode_description']))).to_dict()\n",
    "brass_set = brass_set_show_overlap[brass_set_show_overlap.progress_apply(lambda x: check_other_description_overlap_brass(x, show_episodes), axis=1)]\n",
    "print(f\"Removed {len(brass_set_show_overlap) - len(brass_set)} episodes ({(100-(len(brass_set)/len(brass_set_show_overlap)*100)):.2f}%) because of too high overlap with other descriptions in the same show\")"
   ]
  },
  {
   "cell_type": "code",
   "execution_count": 128,
   "metadata": {},
   "outputs": [
    {
     "name": "stdout",
     "output_type": "stream",
     "text": [
      "Episode description: \n",
      "\tLife and fashion all packed into a panini \n",
      "Show description: \n",
      "\tLife and fashion all packed into a panini\n",
      "Overlapping score: \n",
      "\t0.9879518072289156\n",
      "\n",
      "\n",
      "Episode description: \n",
      "\tToday, three of the worlds straightest males have gathered to talk about the straightest things. \n",
      "Show description: \n",
      "\tOn the Wearings-Socks Podcast, three of the worlds straightest males have gathered to talk about the straightest things.\n",
      "Overlapping score: \n",
      "\t0.8663594470046083\n",
      "\n",
      "\n",
      "Episode description: \n",
      "\tWe look back at the case of the Maryland Court vs Adnan Syed and tell you what we think really happened on that fateful day in 1999 \n",
      "Show description: \n",
      "\tWe're out here doing a podcast about the Serial Podcast that is based off of the State of Maryland v. Adnan Syed case that happened back in 1999.\n",
      "Overlapping score: \n",
      "\t0.51985559566787\n",
      "\n",
      "\n"
     ]
    }
   ],
   "source": [
    "# look to the removed episode descriptions due to the overlap with the show description\n",
    "removed_episodes_show_overlap = pd.concat([brass_set_lenght, brass_set_show_overlap]).drop_duplicates(keep=False)[['show_description', 'episode_description']]\n",
    "removed_episodes_show_overlap['overlapping'] = removed_episodes_show_overlap.apply(lambda row: description_similarity(row['show_description'], row['episode_description']), axis=1)\n",
    "\n",
    "num_to_visualize = 3\n",
    "\n",
    "for _ in range(num_to_visualize):\n",
    "    row = removed_episodes_show_overlap.sample()\n",
    "    print(f\"Episode description: \\n\\t{row['episode_description'].values[0]}\")\n",
    "    print(f\"Show description: \\n\\t{row['show_description'].values[0]}\")\n",
    "    print(f\"Overlapping score: \\n\\t{row['overlapping'].values[0]}\")\n",
    "    print(\"\\n\")"
   ]
  },
  {
   "cell_type": "code",
   "execution_count": 165,
   "metadata": {},
   "outputs": [
    {
     "name": "stdout",
     "output_type": "stream",
     "text": [
      "Episode description: \n",
      "\tA real banger, one for the ages  \n",
      "Other episode description: \n",
      "\tThis is a banger, one for the ages  \n",
      "Overlapping score: \n",
      "\t0.8405797101449275\n",
      "\n",
      "\n",
      "Episode description: \n",
      "\tIn this exercise, drift off to sleep while listening to nature sounds. \n",
      "Other episode description: \n",
      "\tIn the full version of this exercise, focus on muscle relaxation while listening to nature sounds. \n",
      "Overlapping score: \n",
      "\t0.7176470588235294\n",
      "\n",
      "\n",
      "Episode description: \n",
      "\tIn this episode, Shawna and Larry talk with Jason Lobmeyer about helpful tips on how to be a great CCV kids coach. \n",
      "Other episode description: \n",
      "\tIn this episode, Shawna and Larry talk with George Mang about helpful tips on how deal with behavioral issues in a kids experience. \n",
      "Overlapping score: \n",
      "\t0.7125506072874493\n",
      "\n",
      "\n"
     ]
    }
   ],
   "source": [
    "# look to the removed episode descriptions due to the overlap with the other episode descriptions in the same show\n",
    "removed_episodes_other_overlap = pd.concat([brass_set, brass_set_show_overlap]).drop_duplicates(keep=False)[['show_filename_prefix', 'episode_filename_prefix', 'episode_description']]\n",
    "two_episodes_show  = {str(show_filename_prefix): show_episodes[show_filename_prefix] for show_filename_prefix in removed_episodes_other_overlap['show_filename_prefix'] if len(show_episodes[show_filename_prefix]) == 2 }\n",
    "removed_episodes_other_overlap = removed_episodes_other_overlap[removed_episodes_other_overlap['show_filename_prefix'].isin(two_episodes_show.keys())]\n",
    "other_episode_show = {}\n",
    "for i, row in removed_episodes_other_overlap.iterrows():\n",
    "    if row['show_filename_prefix'] in two_episodes_show:\n",
    "        if row['episode_filename_prefix'] in two_episodes_show[row['show_filename_prefix']][0]:\n",
    "            other_episode_show[row['show_filename_prefix']] = two_episodes_show[row['show_filename_prefix']][1][1]\n",
    "        else:\n",
    "            other_episode_show[row['show_filename_prefix']] = two_episodes_show[row['show_filename_prefix']][0][1]\n",
    "removed_episodes_other_overlap['other_episode_description'] = removed_episodes_other_overlap.apply(lambda row: other_episode_show[row['show_filename_prefix']], axis=1)\n",
    "removed_episodes_other_overlap['overlapping'] = removed_episodes_other_overlap.apply(lambda row: description_similarity(row['episode_description'], row['other_episode_description']), axis=1)\n",
    "\n",
    "num_to_visualize = 3\n",
    "\n",
    "for _ in range(num_to_visualize):\n",
    "    row = removed_episodes_other_overlap.sample()\n",
    "    print(f\"Episode description: \\n\\t{row['episode_description'].values[0]}\")\n",
    "    print(f\"Other episode description: \\n\\t{row['other_episode_description'].values[0]}\")\n",
    "    print(f\"Overlapping score: \\n\\t{row['overlapping'].values[0]}\")\n",
    "    print(\"\\n\")"
   ]
  },
  {
   "cell_type": "markdown",
   "metadata": {},
   "source": [
    "#### 1.3.1 Further cleaning of the data\n",
    "The podcast episodes should be restricted to the English language, but they cover a range of geographical regions and we found a number of non-English podcasts in the dataset. So we remove them."
   ]
  },
  {
   "cell_type": "code",
   "execution_count": 219,
   "metadata": {},
   "outputs": [
    {
     "name": "stderr",
     "output_type": "stream",
     "text": [
      "100%|██████████| 77415/77415 [00:26<00:00, 2925.98it/s]"
     ]
    },
    {
     "name": "stdout",
     "output_type": "stream",
     "text": [
      "Removed 374 episodes (0.48%) because of non english description\n"
     ]
    },
    {
     "name": "stderr",
     "output_type": "stream",
     "text": [
      "\n"
     ]
    }
   ],
   "source": [
    "try:\n",
    "    nltk.data.find('corpora/words')\n",
    "except LookupError:\n",
    "    nltk.download('words')\n",
    "wordset = set(words.words())\n",
    "\n",
    "def is_english(text, threshold = 0.3):\n",
    "    \"\"\"\n",
    "    Check if the text is written in english\n",
    "\n",
    "    Parameters\n",
    "    ----------\n",
    "    text : str\n",
    "        The text to check\n",
    "    threshold : float\n",
    "        The threshold of the ratio of english words in the text\n",
    "    \n",
    "    Returns\n",
    "    -------\n",
    "    Boolean indicating if the text is written in english\n",
    "    \"\"\"\n",
    "    tokenized = word_tokenize(text)\n",
    "    alpha_tokenized = [word.lower() for word in tokenized if word.isalpha()]\n",
    "    dictionary_score = sum([word.lower() in wordset for word in alpha_tokenized\n",
    "                           ]) / len(alpha_tokenized)\n",
    "    return dictionary_score > threshold\n",
    "\n",
    "# remove episodes with non english description\n",
    "len_old_brass_set = len(brass_set)\n",
    "brass_set = brass_set[brass_set.progress_apply(lambda x: is_english(x['episode_description']), axis=1)]\n",
    "print(f\"Removed {len_old_brass_set - len(brass_set)} episodes ({(100-(len(brass_set)/len_old_brass_set*100)):.2f}%) because of non english description\")"
   ]
  },
  {
   "cell_type": "code",
   "execution_count": 220,
   "metadata": {},
   "outputs": [],
   "source": [
    "# store brass set\n",
    "brass_set.to_csv(os.path.join(os.path.dirname(metadata_path_train), \"brass_set.tsv\"), index=False, sep='\\t')"
   ]
  },
  {
   "cell_type": "markdown",
   "metadata": {},
   "source": [
    "### 1.4 Transcript filtering\n",
    "For each episode, extract the chunks from the transcript, classify them to evaluate their relevance and take the ones with the highest score up to fulfill 1024 tokens."
   ]
  },
  {
   "cell_type": "code",
   "execution_count": null,
   "metadata": {},
   "outputs": [],
   "source": [
    "# load brass set\n",
    "brass_set = pd.read_csv(os.path.join(dataset_path, \"brass_set.tsv\"), sep='\\t')"
   ]
  },
  {
   "cell_type": "code",
   "execution_count": null,
   "metadata": {},
   "outputs": [],
   "source": [
    "def transcript_filtering(episode, chunk_classifier, sentence_encoder, tokenizer):\n",
    "    \"\"\"\n",
    "    Extract the most important chunks inside the transcript of an episode\n",
    "\n",
    "    Parameters\n",
    "    ----------\n",
    "    episode : pandas.Series\n",
    "        The episode to extract the chunks from\n",
    "    chunk_classifier : tf.Model\n",
    "        The classifier to use to extract the most relevant chunks\n",
    "    sentence_encoder : tf.Model\n",
    "        The encoder to use to encode the sentences\n",
    "    tokenizer : AutoTokenizer\n",
    "        The BART tokenizer to use to tokenize the transcript\n",
    "\n",
    "    Return\n",
    "    ------\n",
    "    Transcript after the selection of the most relevant chunks\n",
    "    \"\"\"\n",
    "\n",
    "    # extraction of chunks from the episode\n",
    "    chunks = semantic_segmentation(get_transcription(episode, dataset_path), sentence_encoder)\n",
    "\n",
    "    # extraction of features for each chunk\n",
    "    features = np.array([extract_features(chunk, sentence_encoder) for chunk in chunks])\n",
    "    \n",
    "    # prediction of the classifier\n",
    "    y = chunk_classifier.predict(features)\n",
    "\n",
    "    # score for each chunk\n",
    "    scores = [{'idx': i, 'relevance':y[i]} for i in range(len(chunks))]\n",
    "\n",
    "    # sorting chunks according to the probability to be relevant\n",
    "    scores.sort(key=lambda e: e['relevance'], reverse=True)\n",
    "\n",
    "    # filter chunks according to a maximum amount of 1024 tokens\n",
    "    count = 0\n",
    "    i = 0\n",
    "    max_tokens = 1024\n",
    "    # until the number of tokens is not max_tokens and there are still chunks to tokenize\n",
    "    while count <= max_tokens and i < len(scores):\n",
    "        count += len(tokenizer(' '.join(chunks[scores[i]['idx']]))['input_ids'])\n",
    "        i += 1\n",
    "    # if total number of chunk is less than max_tokens\n",
    "    if i == len(scores):\n",
    "        relevant_chunks = [' '.join(chunk) for chunk in chunks]\n",
    "    # othewise if there are more token than max_tokens\n",
    "    else:\n",
    "        selected_chunks = {scores[j]['idx']: chunks[scores[j]['idx']] for j in range(i-1)}\n",
    "        # reoreder chunks in the original order\n",
    "        relevant_chunks = [' '.join(chunks[idx]) for idx in sorted(selected_chunks.keys())]\n",
    "\n",
    "    # return the new transcript\n",
    "    return ' '.join(relevant_chunks)\n",
    "\n",
    "\n",
    "chunk_classifier = keras.models.load_model(\"modelChunkNN\")\n",
    "model_checkpoint = \"facebook/bart-large-cnn\"\n",
    "tokenizer = AutoTokenizer.from_pretrained(model_checkpoint)\n",
    "sentence_encoder = SentenceTransformer('all-MiniLM-L6-v2')\n",
    "\n",
    "brass_set['filtered_transcript'] = brass_set.iloc.progress_apply(lambda x: transcript_filtering(x, chunk_classifier, sentence_encoder, tokenizer), axis=1)\n",
    "\n",
    "brass_set[['episode_uri','filtered_transcript', 'episode_description']].to_csv(os.path.join(dataset_path, \"filtered_set.csv\"), index=False)\n",
    "print(\"Filtering done!\")"
   ]
  },
  {
   "cell_type": "markdown",
   "metadata": {},
   "source": [
    "## 2. Training"
   ]
  },
  {
   "cell_type": "markdown",
   "metadata": {},
   "source": [
    "### 2.1 Train/dev split\n",
    "We will use the `Datasets` library from Huggingface to handle the dataset for the training step. This can be easily done with the function `load_dataset`. Then we split the data into train/dev sets of ratio 90%-10%."
   ]
  },
  {
   "cell_type": "code",
   "execution_count": 5,
   "metadata": {},
   "outputs": [
    {
     "name": "stderr",
     "output_type": "stream",
     "text": [
      "Using custom data configuration default-9273f749019660f6\n",
      "Reusing dataset csv (C:\\Users\\peppe\\.cache\\huggingface\\datasets\\csv\\default-9273f749019660f6\\0.0.0\\433e0ccc46f9880962cc2b12065189766fbb2bee57a221866138fb9203c83519)\n",
      "100%|██████████| 1/1 [00:00<00:00, 52.63it/s]"
     ]
    },
    {
     "name": "stdout",
     "output_type": "stream",
     "text": [
      "Training set size: 90\n",
      "Validation set size: 10\n"
     ]
    },
    {
     "name": "stderr",
     "output_type": "stream",
     "text": [
      "\n"
     ]
    }
   ],
   "source": [
    "dataset = load_dataset('csv', data_files=os.path.join(dataset_path, \"filtered_set_100.csv\"))\n",
    "#dataset = load_dataset('csv', data_files=\"filtered_set_100.csv\")\n",
    "\n",
    "train_set, validation_set = dataset['train'].train_test_split(test_size=0.1).values()\n",
    "print(f\"Training set size: {train_set.num_rows}\")\n",
    "print(f\"Validation set size: {validation_set.num_rows}\")"
   ]
  },
  {
   "cell_type": "markdown",
   "metadata": {},
   "source": [
    "Then we get the metric we need to use for evaluation (to compare our model to the benchmark) using the `load_metric` function. We use the ROUGE metrc to check the progress of the model during the training on the validation set. At evaluation time, we use more powerful metrics (like BERTScore) to evaluate the trained model."
   ]
  },
  {
   "cell_type": "code",
   "execution_count": 6,
   "metadata": {},
   "outputs": [],
   "source": [
    "metric = load_metric(\"rouge\")"
   ]
  },
  {
   "cell_type": "markdown",
   "metadata": {},
   "source": [
    "### 2.2 Preprocessing the data\n",
    "Before we can feed those texts to our model, we need to preprocess them. This is done by a Huggingface Transformers `Tokenizer` which will (as the name indicates) tokenize the inputs (including converting the tokens to their corresponding IDs in the pretrained vocabulary) and put it in a format the model expects, as well as generate the other inputs that the model requires.\n",
    "\n",
    "To do all of this, we instantiate our tokenizer with the `AutoTokenizer.from_pretrained` method, which will ensure:\n",
    "\n",
    "- we get a tokenizer that corresponds to the model architecture we want to use,\n",
    "- we download the vocabulary used when pretraining this specific checkpoint.\n",
    "That vocabulary will be cached, so it's not downloaded again the next time we run the cell."
   ]
  },
  {
   "cell_type": "code",
   "execution_count": 7,
   "metadata": {},
   "outputs": [
    {
     "name": "stderr",
     "output_type": "stream",
     "text": [
      "c:\\Users\\peppe\\anaconda3\\envs\\nlp\\lib\\site-packages\\transformers\\models\\t5\\tokenization_t5_fast.py:156: FutureWarning: This tokenizer was incorrectly instantiated with a model max length of 512 which will be corrected in Transformers v5.\n",
      "For now, this behavior is kept to avoid breaking backwards compatibility when padding/encoding with `truncation is True`.\n",
      "- Be aware that you SHOULD NOT rely on t5-small automatically truncating your input to 512 when padding/encoding.\n",
      "- If you want to encode/pad to sequences longer than 512 you can either instantiate this tokenizer with `model_max_length` or pass `max_length` when encoding/padding.\n",
      "- To avoid this warning, please instantiate this tokenizer with `model_max_length` set to your preferred value.\n",
      "  warnings.warn(\n"
     ]
    }
   ],
   "source": [
    "model_checkpoint = \"t5-small\"#\"facebook/bart-large-cnn\" TODO change\n",
    "tokenizer = AutoTokenizer.from_pretrained(model_checkpoint)"
   ]
  },
  {
   "cell_type": "markdown",
   "metadata": {},
   "source": [
    "We use a function to preprocess our samples. We just feed them to the `tokenizer` with the argument `truncation=True`. This will ensure that an input longer that what the model selected can handle will be truncated to the maximum length accepted by the model. The padding will be dealt with later on (in a data collator) so we pad examples to the longest length in the batch and not the whole dataset."
   ]
  },
  {
   "cell_type": "code",
   "execution_count": 8,
   "metadata": {},
   "outputs": [],
   "source": [
    "def batch_tokenize_preprocess(dataset, text_column, summary_column, tokenizer, max_input_length, max_target_length):\n",
    "    \"\"\"\n",
    "    Preprocess a dataset by tokenizing the transcript and the summary.\n",
    "    \n",
    "    Parameters\n",
    "    ----------\n",
    "    dataset : Dataset\n",
    "        The dataset to preprocess\n",
    "    text_column : str\n",
    "        The name of the column containing the transcript\n",
    "    summary_column : str\n",
    "        The name of the column containing the summary\n",
    "    tokenizer : AutoTokenizer\n",
    "        The tokenizer to use\n",
    "    max_input_length : int\n",
    "        The maximum length of the input sequence\n",
    "    max_target_length : int\n",
    "        The maximum length of the target sequence\n",
    "    \n",
    "    Returns\n",
    "    -------\n",
    "    The preprocessed dataset\n",
    "    \"\"\"\n",
    "    inputs = dataset[text_column]\n",
    "    targets = dataset[summary_column]\n",
    "    model_inputs = tokenizer(inputs, max_length=max_input_length, truncation=True)\n",
    "\n",
    "    # Setup the tokenizer for targets\n",
    "    with tokenizer.as_target_tokenizer():\n",
    "        labels = tokenizer(targets, max_length=max_target_length, truncation=True)\n",
    "\n",
    "    model_inputs[\"labels\"] = labels[\"input_ids\"]\n",
    "    return model_inputs"
   ]
  },
  {
   "cell_type": "markdown",
   "metadata": {},
   "source": [
    "To apply this function on all the pairs of sentences in our dataset, we just use the `map` method of our dataset object we created earlier. This will apply the function on all the elements of all the splits in dataset, so our training and validation data will be preprocessed. Note that we passed `batched=True` to encode the texts by batches together. This is to leverage the full benefit of the fast tokenizer we loaded earlier, which will use multi-threading to treat the texts in a batch concurrently."
   ]
  },
  {
   "cell_type": "code",
   "execution_count": 15,
   "metadata": {},
   "outputs": [
    {
     "name": "stderr",
     "output_type": "stream",
     "text": [
      "Running tokenizer on train dataset: 100%|██████████| 1/1 [00:00<00:00, 12.99ba/s]\n",
      "Running tokenizer on validation dataset: 100%|██████████| 1/1 [00:00<00:00, 66.69ba/s]\n"
     ]
    }
   ],
   "source": [
    "max_input_length = 64 # 1024 TODO change\n",
    "max_target_length = 32 # 256 \n",
    "\n",
    "\n",
    "train_set_tokenized = train_set.map(\n",
    "    lambda batch: batch_tokenize_preprocess(\n",
    "        batch, \"filtered_transcript\", \"episode_description\", tokenizer, max_input_length, max_target_length\n",
    "    ),\n",
    "    batched=True,\n",
    "    remove_columns=train_set.column_names,\n",
    "    desc=\"Running tokenizer on train dataset\"\n",
    ")\n",
    "\n",
    "validation_set_tokenized = validation_set.map(\n",
    "    lambda batch: batch_tokenize_preprocess(\n",
    "        batch, \"filtered_transcript\", \"episode_description\", tokenizer, max_input_length, max_target_length\n",
    "    ),\n",
    "    batched=True,\n",
    "    remove_columns=validation_set.column_names,\n",
    "    desc=\"Running tokenizer on validation dataset\"\n",
    ")"
   ]
  },
  {
   "cell_type": "markdown",
   "metadata": {},
   "source": [
    "### 2.3 Fine-tuning the model\n",
    "Now that our data is ready, we can download the pretrained **BART model** and fine-tune it. Since our task is sequence-to-sequence (both the input and output are text sequences), we use the `AutoModelForSeq2SeqLM` class. Like with the tokenizer, the `from_pretrained` method will download and cache the model for us."
   ]
  },
  {
   "cell_type": "code",
   "execution_count": 10,
   "metadata": {},
   "outputs": [
    {
     "name": "stderr",
     "output_type": "stream",
     "text": [
      "All model checkpoint layers were used when initializing TFT5ForConditionalGeneration.\n",
      "\n",
      "All the layers of TFT5ForConditionalGeneration were initialized from the model checkpoint at t5-small.\n",
      "If your task is similar to the task the model of the checkpoint was trained on, you can already use TFT5ForConditionalGeneration for predictions without further training.\n"
     ]
    }
   ],
   "source": [
    "# prepare the model\n",
    "model = TFAutoModelForSeq2SeqLM.from_pretrained(model_checkpoint)"
   ]
  },
  {
   "cell_type": "markdown",
   "metadata": {},
   "source": [
    "Then, we need a special kind of data collator, which will not only pad the inputs to the maximum length in the batch, but also the labels. Note that data collators are multi-framework, so make sure you set `return_tensors='tf'` so you get `tf.Tensor` objects back and not something else!"
   ]
  },
  {
   "cell_type": "code",
   "execution_count": 11,
   "metadata": {},
   "outputs": [],
   "source": [
    "data_collator = DataCollatorForSeq2Seq(tokenizer, model=model, return_tensors=\"tf\")"
   ]
  },
  {
   "cell_type": "markdown",
   "metadata": {},
   "source": [
    "Now we convert our input datasets to TF datasets using this collator. There's a built-in method for this: `to_tf_dataset()`. Make sure to specify the collator we just created as our collate_fn!\n",
    "\n",
    "Computing the ROUGE metric can be slow because it requires the model to generate outputs token-by-token. To speed things up, we make a `generation_dataset` that contains only 200 examples from the validation dataset, and use this for ROUGE computations."
   ]
  },
  {
   "cell_type": "code",
   "execution_count": 12,
   "metadata": {},
   "outputs": [],
   "source": [
    "# parameters for the training\n",
    "batch_size = 4\n",
    "learning_rate = 2e-5\n",
    "weight_decay = 0.01\n",
    "num_train_epochs = 3"
   ]
  },
  {
   "cell_type": "code",
   "execution_count": 16,
   "metadata": {},
   "outputs": [],
   "source": [
    "train_dataset = train_set_tokenized.to_tf_dataset(\n",
    "    batch_size=batch_size,\n",
    "    columns=[\"input_ids\", \"attention_mask\", \"labels\"],\n",
    "    shuffle=True,\n",
    "    collate_fn=data_collator,\n",
    ")\n",
    "validation_dataset = validation_set_tokenized.to_tf_dataset(\n",
    "    batch_size=batch_size,\n",
    "    columns=[\"input_ids\", \"attention_mask\", \"labels\"],\n",
    "    shuffle=False,\n",
    "    collate_fn=data_collator,\n",
    ")\n",
    "generation_dataset = (\n",
    "    validation_set_tokenized\n",
    "    .shuffle()\n",
    "    .select(list(range(10)))\n",
    "    .to_tf_dataset(\n",
    "        batch_size=batch_size,\n",
    "        columns=[\"input_ids\", \"attention_mask\", \"labels\"],\n",
    "        shuffle=False,\n",
    "        collate_fn=data_collator,\n",
    "    )\n",
    ")"
   ]
  },
  {
   "cell_type": "markdown",
   "metadata": {},
   "source": [
    "Now we initialize our loss and optimizer and compile the model. Note that most Transformers models compute loss internally - we can train on this as our loss value simply by not specifying a loss when we `compile()`."
   ]
  },
  {
   "cell_type": "code",
   "execution_count": 17,
   "metadata": {},
   "outputs": [
    {
     "name": "stderr",
     "output_type": "stream",
     "text": [
      "No loss specified in compile() - the model's internal loss computation will be used as the loss. Don't panic - this is a common way to train TensorFlow models in Transformers! To disable this behaviour please pass a loss argument, or explicitly pass `loss=None` if you do not want your model to compute a loss.\n"
     ]
    }
   ],
   "source": [
    "optimizer = AdamWeightDecay(learning_rate=learning_rate, weight_decay_rate=weight_decay)\n",
    "model.compile(optimizer=optimizer)"
   ]
  },
  {
   "cell_type": "markdown",
   "metadata": {},
   "source": [
    "Now we can train our model. We can also add some callbacks:\n",
    "- *TensorBoard* is a built-in Keras callback that logs TensorBoard metrics.\n",
    "- *KerasMetricCallback* is a callback for computing advanced metrics. There are a number of common metrics in NLP like ROUGE which are hard to fit into your compiled training loop because they depend on decoding predictions and labels back to strings with the tokenizer, and calling arbitrary Python functions to compute the metric. The KerasMetricCallback will wrap a metric function, outputting metrics as training progresses.\n",
    "This callback allows complex metrics to be computed each epoch that would not function as a standard Keras Metric. Metric values are printed each epoch, and can be used by other callbacks like TensorBoard or EarlyStopping."
   ]
  },
  {
   "cell_type": "code",
   "execution_count": 20,
   "metadata": {},
   "outputs": [
    {
     "name": "stderr",
     "output_type": "stream",
     "text": [
      "WARNING:root:No label_cols specified for KerasMetricCallback, assuming you want the 'labels' key.\n"
     ]
    }
   ],
   "source": [
    "def postprocess_text(preds, labels):\n",
    "        preds = [pred.strip() for pred in preds]\n",
    "        labels = [label.strip() for label in labels]\n",
    "\n",
    "        # rougeLSum expects newline after each sentence\n",
    "        preds = [\"\\n\".join(nltk.sent_tokenize(pred)) for pred in preds]\n",
    "        labels = [\"\\n\".join(nltk.sent_tokenize(label)) for label in labels]\n",
    "\n",
    "        return preds, labels\n",
    "\n",
    "def metric_fn(eval_preds):\n",
    "    preds, labels = eval_preds\n",
    "    if isinstance(preds, tuple):\n",
    "        preds = preds[0]\n",
    "    decoded_preds = tokenizer.batch_decode(preds, skip_special_tokens=True)\n",
    "\n",
    "    # Replace -100 in the labels as we can't decode them.\n",
    "    labels = np.where(labels != -100, labels, tokenizer.pad_token_id)\n",
    "    decoded_labels = tokenizer.batch_decode(labels, skip_special_tokens=True)\n",
    "\n",
    "    # Some simple post-processing\n",
    "    decoded_preds, decoded_labels = postprocess_text(decoded_preds, decoded_labels)\n",
    "\n",
    "    result = metric.compute(predictions=decoded_preds, references=decoded_labels, use_stemmer=True)\n",
    "    # Extract a few results from ROUGE\n",
    "    result = {key: value.mid.fmeasure * 100 for key, value in result.items()}\n",
    "\n",
    "    prediction_lens = [np.count_nonzero(pred != tokenizer.pad_token_id) for pred in preds]\n",
    "    result[\"gen_len\"] = np.mean(prediction_lens)\n",
    "    result = {k: round(v, 4) for k, v in result.items()}\n",
    "    return result\n",
    "\n",
    "\n",
    "model_path = \"bart-large-finetuned/filtered-spotify-podcast-summ\"\n",
    "\n",
    "log_dir = model_path + \"/logs/fit/\" + datetime.datetime.now().strftime(\"%Y%m%d-%H%M%S\")\n",
    "tensorboard_callback = TensorBoard(log_dir=log_dir)\n",
    "\n",
    "metric_callback = KerasMetricCallback(\n",
    "    metric_fn, eval_dataset=generation_dataset, predict_with_generate=True\n",
    ")\n",
    "\n",
    "callbacks = [metric_callback, tensorboard_callback]"
   ]
  },
  {
   "cell_type": "code",
   "execution_count": 28,
   "metadata": {},
   "outputs": [
    {
     "name": "stderr",
     "output_type": "stream",
     "text": [
      "WARNING:root:No label_cols specified for KerasMetricCallback, assuming you want the 'labels' key.\n"
     ]
    }
   ],
   "source": [
    "def metric_fn(eval_predictions):\n",
    "    predictions, labels = eval_predictions\n",
    "    decoded_predictions = tokenizer.batch_decode(predictions, skip_special_tokens=True)\n",
    "    for label in labels:\n",
    "        label[label < 0] = tokenizer.pad_token_id  # Replace masked label tokens\n",
    "    decoded_labels = tokenizer.batch_decode(labels, skip_special_tokens=True)\n",
    "    # Rouge expects a newline after each sentence\n",
    "    decoded_predictions = [\n",
    "        \"\\n\".join(nltk.sent_tokenize(pred.strip())) for pred in decoded_predictions\n",
    "    ]\n",
    "    decoded_labels = [\n",
    "        \"\\n\".join(nltk.sent_tokenize(label.strip())) for label in decoded_labels\n",
    "    ]\n",
    "    result = metric.compute(\n",
    "        predictions=decoded_predictions, references=decoded_labels, use_stemmer=True\n",
    "    )\n",
    "    # Extract a few results\n",
    "    result = {key: value.mid.fmeasure * 100 for key, value in result.items()}\n",
    "    # Add mean generated length\n",
    "    prediction_lens = [\n",
    "        np.count_nonzero(pred != tokenizer.pad_token_id) for pred in predictions\n",
    "    ]\n",
    "    result[\"gen_len\"] = np.mean(prediction_lens)\n",
    "\n",
    "    return result\n",
    "\n",
    "\n",
    "model_path = \"bart-large-finetuned/filtered-spotify-podcast-summ\"\n",
    "\n",
    "log_dir = model_path + \"/logs/fit/\" + datetime.datetime.now().strftime(\"%Y%m%d-%H%M%S\")\n",
    "tensorboard_callback = TensorBoard(log_dir=log_dir)\n",
    "\n",
    "metric_callback = KerasMetricCallback(\n",
    "    metric_fn, eval_dataset=generation_dataset, predict_with_generate=True\n",
    ")\n",
    "\n",
    "callbacks = [metric_callback, tensorboard_callback]"
   ]
  },
  {
   "cell_type": "code",
   "execution_count": 21,
   "metadata": {},
   "outputs": [
    {
     "name": "stdout",
     "output_type": "stream",
     "text": [
      "Epoch 1/3\n",
      "22/22 [==============================] - 43s 842ms/step - loss: 5.2229 - val_loss: 4.5450 - rouge1: 10.4848 - rouge2: 0.5405 - rougeL: 8.0201 - rougeLsum: 8.3865 - gen_len: 19.0000\n",
      "Epoch 2/3\n",
      "22/22 [==============================] - 12s 550ms/step - loss: 4.9875 - val_loss: 4.3966 - rouge1: 10.9212 - rouge2: 0.5405 - rougeL: 8.4372 - rougeLsum: 8.8625 - gen_len: 17.8000\n",
      "Epoch 3/3\n",
      "22/22 [==============================] - 11s 489ms/step - loss: 4.8780 - val_loss: 4.3568 - rouge1: 12.8765 - rouge2: 1.4634 - rougeL: 9.5688 - rougeLsum: 10.0297 - gen_len: 17.8000\n"
     ]
    }
   ],
   "source": [
    "# fine-tune the model\n",
    "history = model.fit(\n",
    "    train_dataset, validation_data=validation_dataset, epochs=num_train_epochs, callbacks=callbacks\n",
    ")\n",
    "history = history.history"
   ]
  },
  {
   "cell_type": "markdown",
   "metadata": {},
   "source": [
    "We will sync up our model with the Hub. This allows us to resume training from other machines, share the model after training is finished, and even test the model's inference quality midway through training!"
   ]
  },
  {
   "cell_type": "code",
   "execution_count": 17,
   "metadata": {},
   "outputs": [
    {
     "name": "stderr",
     "output_type": "stream",
     "text": [
      "c:\\Users\\peppe\\anaconda3\\envs\\nlp\\lib\\site-packages\\huggingface_hub\\utils\\_deprecation.py:39: FutureWarning: Pass token='bart-large-finetuned-spotify-podcast-summ' as keyword args. From version 0.7 passing these as positional arguments will result in an error\n",
      "  warnings.warn(\n",
      "c:\\Users\\peppe\\anaconda3\\envs\\nlp\\lib\\site-packages\\huggingface_hub\\hf_api.py:596: FutureWarning: `create_repo` now takes `token` as an optional positional argument. Be sure to adapt your code!\n",
      "  warnings.warn(\n",
      "Cloning https://huggingface.co/gmurro/bart-large-finetuned-spotify-podcast-summ into local empty directory.\n",
      "WARNING:huggingface_hub.repository:Cloning https://huggingface.co/gmurro/bart-large-finetuned-spotify-podcast-summ into local empty directory.\n",
      "Upload file tf_model.h5: 100%|█████████▉| 231M/231M [02:16<00:00, 1.67MB/s] info: detecting host provider for 'https://huggingface.co/'...\n",
      "To https://huggingface.co/gmurro/bart-large-finetuned-spotify-podcast-summ\n",
      "   81b8822..93f59ff  main -> main\n",
      "\n",
      "WARNING:huggingface_hub.repository:info: detecting host provider for 'https://huggingface.co/'...\n",
      "To https://huggingface.co/gmurro/bart-large-finetuned-spotify-podcast-summ\n",
      "   81b8822..93f59ff  main -> main\n",
      "\n",
      "Upload file tf_model.h5: 100%|██████████| 231M/231M [02:19<00:00, 1.74MB/s]\n"
     ]
    },
    {
     "data": {
      "text/plain": [
       "'https://huggingface.co/gmurro/bart-large-finetuned-spotify-podcast-summ/commit/93f59ff35cab81e9a9bba711f6d2128b0dcca66f'"
      ]
     },
     "execution_count": 17,
     "metadata": {},
     "output_type": "execute_result"
    }
   ],
   "source": [
    "hub_model_id = \"bart-large-finetuned-filtered-spotify-podcast-summ\"\n",
    "model.push_to_hub(hub_model_id)"
   ]
  },
  {
   "cell_type": "markdown",
   "metadata": {},
   "source": [
    "### 2.4 History of the fine-tuning"
   ]
  },
  {
   "cell_type": "code",
   "execution_count": 18,
   "metadata": {},
   "outputs": [],
   "source": [
    "# convert the history.history dict to a pandas DataFrame: \n",
    "path_model_history = os.path.join(model_path, 'history')\n",
    "if not os.path.exists(path_model_history):\n",
    "    os.makedirs(path_model_history)\n",
    "    \n",
    "df_history = pd.DataFrame(history) \n",
    "with open(os.path.join(path_model_history, \"history.csv\"), mode=\"w\") as file:\n",
    "    df_history.to_csv(file)"
   ]
  },
  {
   "cell_type": "code",
   "execution_count": 19,
   "metadata": {},
   "outputs": [],
   "source": [
    "# Restore history\n",
    "cols = ['loss','val_loss','rouge1', 'rouge2', 'rougeL', 'rougeLsum', 'gen_len']\n",
    "path_model_history = os.path.join(model_path, 'history')\n",
    "history = pd.read_csv(os.path.join(path_model_history, \"history.csv\"), usecols=cols)"
   ]
  },
  {
   "cell_type": "code",
   "execution_count": 23,
   "metadata": {},
   "outputs": [
    {
     "data": {
      "image/png": "[encoded data removed]",
      "text/plain": [
       "<Figure size 576x288 with 1 Axes>"
      ]
     },
     "metadata": {
      "needs_background": "light"
     },
     "output_type": "display_data"
    }
   ],
   "source": [
    "def plot_history(models_history, keys, model_names=[], labels=(\"epochs\", \"metrics\"), y_scale=\"linear\", figsize=(10,5), cmap='rainbow'):\n",
    "    \"\"\"\n",
    "    Plot the history of the metrics in the history dictionary for each model.\n",
    "        :param models_history: array of dictionary of the metric history for each model\n",
    "        :param keys: list of keys of the metrics to plot\n",
    "        :param model_names: list of names of the models\n",
    "        :param labels: list of labels of the axes\n",
    "        :param figsize: size of the figure\n",
    "        :param cmap: color map used for the plot\n",
    "    \"\"\"\n",
    "\n",
    "    # maps each model to a distinct RGB color\n",
    "    cmap = plt.cm.get_cmap(cmap, len(keys))\n",
    "\n",
    "    fig = plt.figure(figsize=figsize)\n",
    "\n",
    "    # for each model trained\n",
    "    for i, history in enumerate(models_history):\n",
    "        # take all pairs of training and val metrics\n",
    "        for j, metric in enumerate(keys):\n",
    "            plt.plot(history[metric], label=f\"{model_names[i]} {metric}\", linestyle=\"solid\", color=cmap(j))\n",
    "        \n",
    "    plt.xlabel(labels[0])\n",
    "    plt.ylabel(labels[1])\n",
    "    plt.yscale(y_scale)\n",
    "\n",
    "    # Adding legend\n",
    "    plt.legend(\n",
    "          title =\"Legend\",\n",
    "          loc =\"best\")\n",
    "    plt.title(\"Training history\")\n",
    "    plt.grid(linestyle='--', linewidth=1)\n",
    "    plt.show()\n",
    "\n",
    "model_history = [history]\n",
    "model_names = [\"BART fine-tuning\"]\n",
    "plot_history(model_history, keys=['loss', 'val_loss'], model_names=model_names, labels=(\"epochs\", \"loss\"), figsize=(8,4))"
   ]
  },
  {
   "cell_type": "code",
   "execution_count": 26,
   "metadata": {},
   "outputs": [
    {
     "data": {
      "image/png": "[encoded data removed]",
      "text/plain": [
       "<Figure size 576x288 with 1 Axes>"
      ]
     },
     "metadata": {
      "needs_background": "light"
     },
     "output_type": "display_data"
    }
   ],
   "source": [
    "plot_history(model_history, keys=['rouge1', 'rouge2', 'rougeL', 'rougeLsum'], model_names=model_names, labels=(\"epochs\", \"rouge\"), figsize=(8,4), cmap=\"cool\")"
   ]
  },
  {
   "cell_type": "code",
   "execution_count": null,
   "metadata": {},
   "outputs": [],
   "source": [
    "%load_ext tensorboard"
   ]
  },
  {
   "cell_type": "markdown",
   "metadata": {},
   "source": [
    "## 3. Evaluation"
   ]
  },
  {
   "cell_type": "code",
   "execution_count": 27,
   "metadata": {},
   "outputs": [
    {
     "name": "stderr",
     "output_type": "stream",
     "text": [
      "All model checkpoint layers were used when initializing TFT5ForConditionalGeneration.\n",
      "\n",
      "All the layers of TFT5ForConditionalGeneration were initialized from the model checkpoint at gmurro/bart-large-finetuned-spotify-podcast-summ.\n",
      "If your task is similar to the task the model of the checkpoint was trained on, you can already use TFT5ForConditionalGeneration for predictions without further training.\n"
     ]
    }
   ],
   "source": [
    "# load the fine-tuned model from the hub\n",
    "\n",
    "hub_model_id = \"gmurro/bart-large-finetuned-spotify-podcast-summ\"\n",
    "model = TFAutoModelForSeq2SeqLM.from_pretrained(hub_model_id)"
   ]
  },
  {
   "cell_type": "markdown",
   "metadata": {},
   "source": [
    "transcript_exaple = train_data.iloc[45].transcript\n",
    "transcript_exaple"
   ]
  },
  {
   "cell_type": "code",
   "execution_count": 28,
   "metadata": {},
   "outputs": [],
   "source": [
    "# best summarization\n",
    "transcript_exaple = validation_set[0]['filtered_transcript']"
   ]
  },
  {
   "cell_type": "code",
   "execution_count": 31,
   "metadata": {},
   "outputs": [],
   "source": [
    "example = np.reshape(tokenizer(transcript_exaple, max_length=max_input_length, truncation=True).input_ids, (1,-1))"
   ]
  },
  {
   "cell_type": "code",
   "execution_count": 32,
   "metadata": {},
   "outputs": [],
   "source": [
    "output =model.generate(example)"
   ]
  },
  {
   "cell_type": "code",
   "execution_count": 33,
   "metadata": {},
   "outputs": [
    {
     "name": "stdout",
     "output_type": "stream",
     "text": [
      ", guys. Okay, guys, okay ready. Okay, guys, okay ready. So\n"
     ]
    }
   ],
   "source": [
    "print(tokenizer.decode(output[0], skip_special_tokens=True))"
   ]
  }
 ],
 "metadata": {
  "interpreter": {
   "hash": "e800dd11dddfb1e3886769e91ed8bbe987a221798b85010fca298ae8afbc389e"
  },
  "kernelspec": {
   "display_name": "Python 3 (ipykernel)",
   "language": "python",
   "name": "python3"
  },
  "language_info": {
   "codemirror_mode": {
    "name": "ipython",
    "version": 3
   },
   "file_extension": ".py",
   "mimetype": "text/x-python",
   "name": "python",
   "nbconvert_exporter": "python",
   "pygments_lexer": "ipython3",
   "version": "3.9.7"
  }
 },
 "nbformat": 4,
 "nbformat_minor": 2
}
