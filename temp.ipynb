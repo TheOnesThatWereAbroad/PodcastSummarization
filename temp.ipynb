{
 "cells": [
  {
   "cell_type": "code",
   "execution_count": null,
   "metadata": {},
   "outputs": [],
   "source": [
    "class FeatureExtractor:\n",
    "    \n",
    "    def __init__(self):\n",
    "        self.segmenter = pysbd.Segmenter(language='en', clean='False')\n",
    "        self.model = SentenceTransformer('paraphrase-MiniLM-L6-v2')\n",
    "\n",
    "    def extract_features(self,text):\n",
    "        \"\"\"\n",
    "        Extract features from text using a mean of the tf-idf\n",
    "        Parameters:\n",
    "            - text: string representing a document\n",
    "        Returns:\n",
    "            - extracted features\n",
    "        \"\"\"\n",
    "        sentences = self.segmenter.segment(text)\n",
    "        embeddings = []\n",
    "        for sentence in sentences:\n",
    "          embeddings.append(self.model.encode(sentence))\n",
    "\n",
    "        features = np.mean(embeddings, axis=0)\n",
    "\n",
    "        return features"
   ]
  },
  {
   "cell_type": "code",
   "execution_count": null,
   "metadata": {},
   "outputs": [],
   "source": [
    "def isChunkUseful(chunk, summary, metric, threshold):\n",
    "    \"\"\"\n",
    "    Parameters:\n",
    "        - chunk: part of the transcript\n",
    "        - summary: summary of a transcript\n",
    "        - metric: function of ariety 2 (chunk, summary) used to evaluate the summary\n",
    "        - threshold: value used to decide whether chunk is a good summary or not\n",
    "    Returns:\n",
    "        - True if the chunk is a good summary, False otherwise\n",
    "    \"\"\"\n",
    "    score = metric(chunk, summary)\n",
    "    if score < threshold:\n",
    "        result = False\n",
    "    else:\n",
    "        result = True\n",
    "    \n",
    "    return result"
   ]
  },
  {
   "cell_type": "code",
   "execution_count": null,
   "metadata": {},
   "outputs": [],
   "source": [
    "def bertscore_f1_score(reference, candidate):\n",
    "    \"\"\"\n",
    "    BERTScore score, see https://github.com/huggingface/datasets/tree/master/metrics/bertscore for API\n",
    "    Parameters:\n",
    "        reference: reference translation\n",
    "        candidate: generated translation\n",
    "    Returns:\n",
    "        BERTScore f1 score\n",
    "    \"\"\"\n",
    "    bertscore = load_metric(\"bertscore\")\n",
    "    result = bertscore.compute(\n",
    "        predictions=[candidate],\n",
    "        references=[reference],\n",
    "        lang=\"en\",\n",
    "        rescale_with_baseline=True\n",
    "    )\n",
    "    return result['f1'][0]"
   ]
  },
  {
   "cell_type": "markdown",
   "metadata": {},
   "source": [
    "Chunks which are not meaningful with respect to their summary are removed. This is performed removing chunks which have a certain score with respect to their summary lower than a certain threshold related to the aforementioned metric. At runtime the summary is not available therefore we train a classifier to learn it."
   ]
  },
  {
   "cell_type": "code",
   "execution_count": null,
   "metadata": {},
   "outputs": [],
   "source": [
    "threshold = 0.5\n",
    "metric = bertscore_f1_score\n",
    "\n",
    "# creation of the dataset for chunk classification\n",
    "\n",
    "targets = []\n",
    "\n",
    "for i in len(metadata_train):\n",
    "    description = metadata_train.iloc[i].description\n",
    "    chunk = semantic_segmentation(get_transcription(metadata_train.iloc[i]), model)\n",
    "    if isChunkUseful(chunk, summary, metric, threshold):\n",
    "        targets.append(1)\n",
    "    else:\n",
    "        targets.append(0)\n",
    "\n",
    "y = np.array(targets)\n",
    "\n",
    "# extraction of the features\n",
    "\n",
    "extractor = FeatureExtractor()\n",
    "features = []\n",
    "for i in len(metadata_train):\n",
    "    chunk = semantic_segmentation(get_transcription(metadata_train.iloc[i]), model)\n",
    "    features.append(extractor.extract_features(chunk))\n",
    "\n",
    "X = np.array(features)\n",
    "\n",
    "# splitting dataset\n",
    "X_train, X_test, y_train, y_test = train_test_split(X, y, test_size=0.33, random_state=42)\n",
    "\n",
    "# training the model\n",
    "catboost = CatBoostClassifier(iterations=2,\n",
    "                           learning_rate=1,\n",
    "                           depth=2)\n",
    "# Fit model\n",
    "catboost.fit(X_train, y_train)\n",
    "\n",
    "# Test the model\n",
    "y_pred = catboost.predict(X_test)\n",
    "accuracy = accuracy(y, y_pred)\n",
    "\n",
    "print(f\"Accuracy of chunk selection: {round(accuracy,2)}\")\n"
   ]
  }
 ],
 "metadata": {
  "interpreter": {
   "hash": "bd86b5c47339ba7c128568c1fdf273a8327309a329b63c3cc5de2095ec077d11"
  },
  "kernelspec": {
   "display_name": "Python 3.10.4 ('env': venv)",
   "language": "python",
   "name": "python3"
  },
  "language_info": {
   "name": "python",
   "version": "3.10.4"
  },
  "orig_nbformat": 4
 },
 "nbformat": 4,
 "nbformat_minor": 2
}
