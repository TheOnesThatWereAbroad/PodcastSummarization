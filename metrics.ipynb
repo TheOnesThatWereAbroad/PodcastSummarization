{
 "cells": [
  {
   "cell_type": "code",
   "execution_count": 12,
   "metadata": {},
   "outputs": [
    {
     "name": "stderr",
     "output_type": "stream",
     "text": [
      "[nltk_data] Downloading package wordnet to\n",
      "[nltk_data]     C:\\Users\\boezi\\AppData\\Roaming\\nltk_data...\n",
      "[nltk_data]   Package wordnet is already up-to-date!\n",
      "[nltk_data] Downloading package omw-1.4 to\n",
      "[nltk_data]     C:\\Users\\boezi\\AppData\\Roaming\\nltk_data...\n",
      "[nltk_data]   Unzipping corpora\\omw-1.4.zip.\n"
     ]
    }
   ],
   "source": [
    "from nltk.translate.meteor_score import single_meteor_score\n",
    "import nltk\n",
    "nltk.download('wordnet')\n",
    "nltk.download('omw-1.4')\n",
    "from tensorflow.keras.preprocessing.text import Tokenizer"
   ]
  },
  {
   "cell_type": "code",
   "execution_count": 6,
   "metadata": {},
   "outputs": [],
   "source": [
    "def generate_sentence_tokenizer(corpus):\n",
    "    \"\"\"\n",
    "    Returns a function which tokenizes a sentence according to a vocabularu built on corpus\n",
    "    Parameters:\n",
    "     corpus: list of sentences\n",
    "    Returns:\n",
    "     function to compute sentence tokenization\n",
    "    \"\"\"\n",
    "    tokenizer = Tokenizer()\n",
    "    tokenizer.fit_on_texts(corpus)\n",
    "    def tokenize_sentence(sentence):\n",
    "        \"\"\"\n",
    "        Returns a list of string token given a sentence\n",
    "        Parameters:\n",
    "         sentence: sentence to tokenize\n",
    "        Returns:\n",
    "         list of string tokens\n",
    "        \"\"\"\n",
    "        sequences = tokenizer.texts_to_sequences([sentence])\n",
    "        sequence = sequences[0]\n",
    "        tokenized_sentence = [tokenizer.index_word[i] for i in sequence]\n",
    "        return tokenized_sentence\n",
    "    \n",
    "    return tokenize_sentence"
   ]
  },
  {
   "cell_type": "code",
   "execution_count": 19,
   "metadata": {},
   "outputs": [
    {
     "name": "stdout",
     "output_type": "stream",
     "text": [
      "Sentence: {candidate_one}\n",
      "Score: {score_one}\n",
      "Sentence: {candidate_two}\n",
      "Score: {score_two}\n"
     ]
    }
   ],
   "source": [
    "def meteor_score(reference, candidate, tokenize_fun):\n",
    "    \"\"\"\n",
    "    METEOR score\n",
    "    Parameters:\n",
    "        reference: reference translation\n",
    "        candidate: generated translation\n",
    "        tokenize_fun: tokenize function to apply to each sentence before score computation\n",
    "    Returns:\n",
    "        METEOR score\n",
    "    \"\"\"\n",
    "    tokenized_candidate = tokenize_fun(candidate)\n",
    "    tokenized_reference = tokenize_fun(reference)\n",
    "    return round(single_meteor_score(tokenized_reference, tokenized_candidate), 4)\n",
    "\n",
    "reference = \"the cat is on the table\"\n",
    "\n",
    "candidate_one = \"the dog is on the shelf\"\n",
    "candidate_two = \"the cat is on the mat on the table\"\n",
    "\n",
    "sentence_tok = generate_sentence_tokenizer([reference, candidate_one, candidate_two])\n",
    "sentence_tok(\"the cat is on the shelf\")\n",
    "\n",
    "score_one = meteor_score(reference, candidate_one, sentence_tok)\n",
    "score_two = meteor_score(reference, candidate_two, sentence_tok)\n",
    "\n",
    "print(f\"Sentence: {candidate_one}\")\n",
    "print(f\"Score: {score_one}\")\n",
    "print(f\"Sentence: {candidate_two}\")\n",
    "print(f\"Score: {score_two}\")"
   ]
  },
  {
   "cell_type": "markdown",
   "metadata": {},
   "source": []
  }
 ],
 "metadata": {
  "interpreter": {
   "hash": "7845f4a5515a78a9f91cc9b9f963ac69a8eb4541851448ee62f001dbf9618064"
  },
  "kernelspec": {
   "display_name": "Python 3.7.6 64-bit",
   "language": "python",
   "name": "python3"
  },
  "language_info": {
   "codemirror_mode": {
    "name": "ipython",
    "version": 3
   },
   "file_extension": ".py",
   "mimetype": "text/x-python",
   "name": "python",
   "nbconvert_exporter": "python",
   "pygments_lexer": "ipython3",
   "version": "3.7.6"
  },
  "orig_nbformat": 4
 },
 "nbformat": 4,
 "nbformat_minor": 2
}
