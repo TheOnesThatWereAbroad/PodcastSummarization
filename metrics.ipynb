{
 "cells": [
  {
   "cell_type": "code",
   "execution_count": null,
   "metadata": {},
   "outputs": [],
   "source": [
    "from nltk.translate.meteor_score import single_meteor_score\n",
    "from tensorflow.keras.preprocessing.text import Tokenizer"
   ]
  },
  {
   "cell_type": "code",
   "execution_count": null,
   "metadata": {},
   "outputs": [],
   "source": [
    "def generate_sentence_tokenizer(corpus):\n",
    "    \"\"\"\n",
    "    Returns a function which tokenizes a sentence according to a vocabularu built on corpus\n",
    "    Parameters:\n",
    "     corpus: raw sentence\n",
    "    Returns:\n",
    "     function to compute sentence tokenization\n",
    "    \"\"\"\n",
    "    tokenizer = Tokenizer()\n",
    "    tokenizer.fit_on_texts([corpus])\n",
    "    def tokenize_sentence(sentence):\n",
    "        \"\"\"\n",
    "        Returns a list of string token given a sentence\n",
    "        Parameters:\n",
    "         sentence: sentence to tokenize\n",
    "        Returns:\n",
    "         list of string tokens\n",
    "        \"\"\"\n",
    "        sequences = tokenizer.texts_to_sequences([sentence])\n",
    "        sequence = sequences[0]\n",
    "        tokenized_sentence = [tokenizer.index_word[i] for i in sequence]\n",
    "        return tokenized_sentence\n",
    "    \n",
    "    return tokenize_sentence"
   ]
  },
  {
   "cell_type": "code",
   "execution_count": null,
   "metadata": {},
   "outputs": [],
   "source": [
    "def meteor_score(reference, candidate, tokenize_fun):\n",
    "    \"\"\"\n",
    "    METEOR score\n",
    "    Parameters:\n",
    "        reference: reference translation\n",
    "        candidate: generated translation\n",
    "        tokenize_fun: tokenize function to apply to each sentence before score computation\n",
    "    Returns:\n",
    "        METEOR score\n",
    "    \"\"\"\n",
    "    tokenized_candidate = tokenize_fun(candidate)\n",
    "    tokenized_reference = tokenize_fun(reference)\n",
    "    return round(single_meteor_score(tokenized_reference, tokenized_candidate), 4)"
   ]
  }
 ],
 "metadata": {
  "language_info": {
   "name": "python"
  },
  "orig_nbformat": 4
 },
 "nbformat": 4,
 "nbformat_minor": 2
}
