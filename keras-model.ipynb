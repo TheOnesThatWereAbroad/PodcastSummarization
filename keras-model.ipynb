{
 "cells": [
  {
   "cell_type": "code",
   "execution_count": 15,
   "metadata": {},
   "outputs": [],
   "source": [
    "import pathlib\n",
    "import random\n",
    "import string\n",
    "import re\n",
    "import numpy as np\n",
    "import tensorflow as tf\n",
    "from tensorflow import keras\n",
    "import os\n",
    "import pandas as pd\n",
    "import json"
   ]
  },
  {
   "cell_type": "code",
   "execution_count": 62,
   "metadata": {},
   "outputs": [],
   "source": [
    "VOCAB_SIZE = 10000\n",
    "SEQUENCE_LENGTH = 250\n",
    "BATCH_SIZE = 32"
   ]
  },
  {
   "cell_type": "code",
   "execution_count": 80,
   "metadata": {},
   "outputs": [],
   "source": [
    "dataset_path = os.path.join(os.path.abspath(\"\"), 'podcasts-no-audio-13GB')\n"
   ]
  },
  {
   "cell_type": "code",
   "execution_count": 81,
   "metadata": {},
   "outputs": [
    {
     "name": "stdout",
     "output_type": "stream",
     "text": [
      "Columns:  Index(['show_uri', 'show_name', 'show_description', 'publisher', 'language',\n",
      "       'rss_link', 'episode_uri', 'episode_name', 'episode_description',\n",
      "       'duration', 'show_filename_prefix', 'episode_filename_prefix'],\n",
      "      dtype='object')\n",
      "Shape:  (105360, 12)\n"
     ]
    }
   ],
   "source": [
    "metadata_path_train = os.path.join(dataset_path, 'metadata.tsv')\n",
    "metadata_train = pd.read_csv(metadata_path_train, sep='\\t')\n",
    "print(\"Columns: \", metadata_train.columns)\n",
    "print(\"Shape: \", metadata_train.shape)"
   ]
  },
  {
   "cell_type": "code",
   "execution_count": 82,
   "metadata": {},
   "outputs": [
    {
     "name": "stdout",
     "output_type": "stream",
     "text": [
      "show_uri                                 spotify:show:2NYtxEZyYelR6RMKmjfPLB\n",
      "show_name                                               Kream in your Koffee\n",
      "show_description           A 20-something blunt female takes on the world...\n",
      "publisher                                                        Katie Houle\n",
      "language                                                              ['en']\n",
      "rss_link                            https://anchor.fm/s/11b84b68/podcast/rss\n",
      "episode_uri                           spotify:episode:000A9sRBYdVh66csG2qEdj\n",
      "episode_name                                         1: It’s Christmas Time!\n",
      "episode_description        On the first ever episode of Kream in your Kof...\n",
      "duration                                                           12.700133\n",
      "show_filename_prefix                             show_2NYtxEZyYelR6RMKmjfPLB\n",
      "episode_filename_prefix                               000A9sRBYdVh66csG2qEdj\n",
      "Name: 0, dtype: object\n",
      "\n",
      "Copy this uri into the browser to listen to the episode:\n",
      " spotify:episode:000A9sRBYdVh66csG2qEdj\n"
     ]
    }
   ],
   "source": [
    "i = 0\n",
    "episode_example_train = metadata_train.iloc[i]\n",
    "print(episode_example_train)\n",
    "print(\"\\nCopy this uri into the browser to listen to the episode:\\n\",\n",
    "      episode_example_train['episode_uri'])\n"
   ]
  },
  {
   "cell_type": "code",
   "execution_count": 83,
   "metadata": {},
   "outputs": [],
   "source": [
    "def get_path(episode):\n",
    "    # extract the 2 reference number/letter to access the episode transcript\n",
    "    show_filename = episode['show_filename_prefix']\n",
    "    episode_filename = episode['episode_filename_prefix'] + \".json\"\n",
    "    dir_1, dir_2 = re.match(r'show_(\\d)(\\w).*', show_filename).groups()\n",
    "\n",
    "    interval_folders = [range(0, 3), range(3, 6), range(6, 8)]\n",
    "\n",
    "    # check which is the main folder containing the transcript\n",
    "    main_dir = \"\"\n",
    "    for interval in interval_folders:\n",
    "        if int(dir_1) in interval:\n",
    "            main_dir = \"podcasts-transcripts-{}to{}\".format(interval[0],\n",
    "                                                            interval[-1])\n",
    "    assert main_dir != \"\"\n",
    "\n",
    "    # check if the transcript file in all the derived subfolders exist\n",
    "    transcipt_path = os.path.join(dataset_path, main_dir, \"spotify-podcasts-2020\",\n",
    "                                \"podcasts-transcripts\", dir_1, dir_2,\n",
    "                                show_filename, episode_filename)\n",
    "\n",
    "    return transcipt_path"
   ]
  },
  {
   "cell_type": "code",
   "execution_count": 84,
   "metadata": {},
   "outputs": [
    {
     "name": "stdout",
     "output_type": "stream",
     "text": [
      "/Users/simone/UniBO/Lab/NLP/PodcastSummarization/podcasts-no-audio-13GB/podcasts-transcripts-6to7/spotify-podcasts-2020/podcasts-transcripts/6/r/show_6r0bfT6lOLqDMh9ujnT1BW/0VCNFvmtEUvMEHQIEmt8O4.json\n",
      "/Users/simone/UniBO/Lab/NLP/PodcastSummarization/podcasts-no-audio-13GB/podcasts-transcripts-0to2/spotify-podcasts-2020/podcasts-transcripts/0/Q/show_0Q4ThOFNfLmFPESqAjFctV/0P6iqbGXRjpjbcaOCYpbHY.json\n"
     ]
    }
   ],
   "source": [
    "i = 0\n",
    "while not os.path.isfile(get_path(metadata_train.iloc[i])):\n",
    "    i = random.randint(0,10000)\n",
    "    print(get_path(metadata_train.iloc[i]))"
   ]
  },
  {
   "cell_type": "code",
   "execution_count": 85,
   "metadata": {},
   "outputs": [
    {
     "data": {
      "text/plain": [
       "show_uri                                 spotify:show:0Q4ThOFNfLmFPESqAjFctV\n",
       "show_name                                                       AstrologyNow\n",
       "show_description           Since ancient times, sages and mystics have ut...\n",
       "publisher                                                Christine Rodriguez\n",
       "language                                                           ['en-US']\n",
       "rss_link                             https://anchor.fm/s/7efcfc0/podcast/rss\n",
       "episode_uri                           spotify:episode:0P6iqbGXRjpjbcaOCYpbHY\n",
       "episode_name               The Third House in Vedic Astrology: Courage, C...\n",
       "episode_description        The Third House represents short distance trav...\n",
       "duration                                                            11.70595\n",
       "show_filename_prefix                             show_0Q4ThOFNfLmFPESqAjFctV\n",
       "episode_filename_prefix                               0P6iqbGXRjpjbcaOCYpbHY\n",
       "Name: 5544, dtype: object"
      ]
     },
     "execution_count": 85,
     "metadata": {},
     "output_type": "execute_result"
    }
   ],
   "source": [
    "episode = metadata_train.iloc[i]\n",
    "episode"
   ]
  },
  {
   "cell_type": "code",
   "execution_count": 86,
   "metadata": {},
   "outputs": [
    {
     "name": "stdout",
     "output_type": "stream",
     "text": [
      "Episode description:\n",
      "On the first ever episode of Kream in your Koffee, Katie talks about tips for Christmas shopping. We also get a little insight into who and what we’ll be hearing about in next weeks episode! \n",
      "\n",
      "Episode transcription:\n",
      " One of my professors once asked me and the rest of my class one. Is it that you feel the most connected to the world and I still remember my answer. So I grew up on top of a hill that overlooked the Blue Ridge Mountains. And the Shenandoah Valley my house is right at the top and one of my favorite things to do growing up was to run from the top of the hill all the way down to the bottom where the stream was. I was always Barefoot my hair let loose and my arms would flail around like crazy and I would do this most often in the pouring down rain and sometimes at night to which added a little bit of extra risk, but it just made me feel so alive. I felt totally free.  Just letting myself go and be carried by gravity to the bottom of the hill and usually lose pretty much all control. This is my home the place where I grew up. It was a part of me. It was where I felt rooted and connected.  And I remember running down that Hill made me feel kind of insignificant actually like the joy and the life that I was feeling and that moment didn't have to mean anything to anyone else. I was just there racing down a hill the middle of a rainstorm right where I belonged.  Welcome to shifting climates where we attempt to rehumanize the conversation on climate change. I'm Harrison Horst and I'm Michaela masked this episode. We're trying to figure out how to reattach ourselves to place to replace ourselves if you will.  We've all heard it before the age of modern technology has allowed us to become far more connected to the world than we used to be. I can talk to my friends in Romania buy food grown in Peru and virtually walk down the streets of India all in a day's time, but we met some people on our travels who aren't so sure that's all it takes to be connected to the Earth.  This episode's focus is to part first. We'll hear a little bit about the connection that we're missing and second. We talked to some people for whom connecting with the Earth naturally leads to building Community often around food.  Well, actually could we start with your name and what you do and where we are right now? Okay, I'm Ray person. We were sitting down at the home of another Farmer in the Bluffton area for a person Elizabeth and I are owners of this Farm but snort Farm but this Farm is a little bit different than the others. We visited. It's a Cooperative 18 families together run the form a 20-acre organic farm.  Sat on couches and Ray and Elizabeth's farmhouse in the company of their dog Skillet and surrounded by piles of books. I'm also a college professor at Ohio Northern University where I teach all the classes and Bible, so that's my full-time job that makes his work on his farm a very part time job and not as primary source of income. So right was quick to point out that it would be unfair to compare him to other farmers in the area when I when we started with the form I was  That at some point it would impact my scholarship. I wasn't certain how I wrote the commentary on Deuteronomy for the Earth Bible commentary series. It's called Deuteronomy and environmentalism Nisha and it looks at how the male Elites who wrote the book of Deuteronomy were detached enough from the land.  That they suffered from environmental and lygia, and that some of the laws don't make a whole lot of sense.  Well, we don't know much about Deuteronomy, but we were intrigued so we asked Trey to explain this a little bit more.  All right ancient Israel has like six different ecological niches. Okay. So if we look at just the geography of the land there's a lot of variety in a very small area the book of Deuteronomy treats it as a monolithic whole it's the good land and so all of the laws are written as if the law can apply to  all of these ecological niches because the the urban Elite who wrote it didn't understand that variety and didn't understand how you can't survive in one ecological niche if you're acting as if you live in another I think that describes us moderns quite well ready to finds environmental and misia as our failure to remember both our connection to the places where  we live and to the inhabitants of those places in a way. He says we've lost touch with the rhythms of our environment just like the writers of Deuteronomy, but for a living on a small farm has helped to revive that awareness. I have learned a lot about how little I knew before I moved to the farm. So the first year we were here we had chickens and you live in the country. You assume you put up with more insects.  Spend in that was kind of okay with us the second year. I got goats. I assumed more livestock more manure more flies. It didn't work out that way because the barn swallows moved into the same time and the barn swallows were eating the adult flies and the chickens were scratching in the manure eating the larvae and so we ended up with fewer flies than we had before. That was a big surprise.  surprise to me it took me a while to figure out what was really going on, but  It was a lesson that the land taught me because I was living in the midst of it in ways that I had not been before he's a recovering environmental amnesiac learning what it means to be a human in an ecological system. I think most of us in the modern world suffer from that and of course if you live on a farm and you have livestock that have to be fed and watered every day no matter what the weather is and there's I mean, there's there's a  Come to the Forum that you just have to learn to live with whatever the weather is. That's that's part of it. So we're working on your environmental Amnesia doesn't mean you have to stop living in an air-conditioned house. Right? Those are mutually exclusive. There are ways of incorporating this remembering into a lifestyle that also is fairly moderate.  Yes, yes. So even things like city parks can be a way of helping us understand something about our environmental Amnesia giving outside of the city and going for a hike in a state park or something. I mean there's there's ways that we can do this better gardening is a great way for kids to learn a lot more about plants and insects and soils and all of that.   What Ray is saying here is that we don't do a very good job of learning about the land that we occupy. It's rhythms its nuances and foibles. It's likes and dislikes and as we found out it also has quite a bit to teach us if we let it Ray told us about the story of Jonah how all of God's creation works together to bring shalom in the story The Whale the storm a shade tree even the worm and the only thing stopping the combination of Shalom is Jonas arrogance.  Jonah is the Cog in the wheel to get stuck on his own self-importance. Similarly. Ray says where the lessons we would learn if we just got out of the way a little bit and let the workings of God's creation begin to restore balance when it comes to climate change. I can't help but feel that are perceived self-importance is stopping us from doing the very work. We were sent to do bring God's Shalom to Earth perhaps we just need to do a bit more listening.  We'll come back to race soon. But first we like to introduce you to some other friends of ours people who though they wouldn't say it in the same way have taken up the task of combating environmental Amnesia among our children.  The morning of a rainy Saturday in October finds US walking the grounds that can't feed and swallowed in Southern Michigan attempting to mitigate some of her own environmental Amnesia education programs and both of us together with our summer programs. We try to do as much as we can outside many of our friends from Eastern Mennonite University. Adora can't be involved and they can Rave about it for hours, but none of us had ever been there before so  We were eager to finally experience it for ourselves. The grounds are beautiful, especially with the turning leaves of fall. We squatched our way to the drizzle and mud 200 feet and swallows. Most distinct features the lake on the Southeast edge of the camp.  But this so we actually have two beaches and it's I mean, I think that it's the best part of like with I think the best part importance on I don't need to like mitigate that after the tour we sat down with three of the staff members at freedoms walled. The program's director. I'm Naomi Graver Leary and I am one with my husband Kevin or the program.  Juice here. It came Freedom small the executive director and I'm Jenna look Dean Martin. I'm the executive director and the sustainability and outdoor education director Amy Hoosier and my title is sustainability and outdoor education director. There were six of us sitting together in an enclosed gazebo with hot tea and hand sheltered from the light rain outside Jenna Naomi and Amy all grew up going to camp and I didn't take long to tell that they've never stopped loving it.  I grew up coming to freedoms. Well actually as a young kid and continue to come through my high school years and then worked on some stuff here and when I would ever think of a place I think of an image of  A peaceful place I could think of a specific Trail at Camp freedoms wolves and I think that's still where my mind almost goes to also a place where I probably felt most connected to the elements. We specific memories of being caught on Outpost in storms and the stormy weather and a cabin jumping in the lake for polar bear swims in the morning and you can't was definitely a place where  my senses woke up maybe not surprisingly when free until its core values is appreciating nature the value of the natural world as an expression of God's spirit to be explored cared for and delighted in a sentiment that was tangible in the stories that they shared with us. I really like the way you talked about Camp as being a place where your senses were awakened are there. Yeah any specific stories where you've seen that happen in your campers one of my favorite stories from my first  Fall here, which was just last fall. We saw a spicebush swallowtail caterpillar on a sassafras branch and one of the students found it. We were on a nature hike and that caterpillar. It has like this totally fake snake head as like self-defense, you know mechanism to scare away Predators. So we were all just like crowded around this like, you know group of a dozen or 15 of us just like totally into this caterpillar every room. So  Then one kid talk like a little pine cone and just like tapped it and out came this fake yellow tongue iPhone right out of it and the whole group becomes one jump back and it was one of my favorite moments of being on a nature hike at Camp was pretty awesome like to see that. Yeah well and then I was like, oh I should have saved it and brought it to the  My little caterpillar home, but I didn't and then went back later and I looked like half an hour for that caterpillar member heleng2 of the experience of those moments of being awakened. You can't capture them. Yeah, and like there's something just something of a sacred in those moments where you something is tapped that you hadn't experienced before and you see something new that you never had.  the staff clearly love to be outside and they told us that a lot of the programming including worship sessions are typically held out of doors that we're stepping outside allows us to do is you know, when you tell the story of Zacchaeus and the sycamore tree, you can say, you know, where are the sycamore trees at Camp when you you know, when you talk about Jesus on the water you can say, you know, here's the link and you know, this is you know, what is it like when it's storming at camp and you know nature is just so much a part of the biblical story and and how Jesus talked about his faith and  All the Old Testament talks about faith and worshipping outside and telling those stories outside brings new life and new experience to those.   Jenna Naomi and Amy have a similar philosophy as Ray. They also think that something is lost. When we forget our place as members of creation. Our time at Friedens wallet helped us remember as well the Cool Rain Shaded Woods and Misty Lake being there in the fall was especially beautiful though. It also meant that we had no campers to talk to fortunately we were able to find one back in Bluffton. So my name is Anna be sacrum asked and I  I'm a first year student at the University of Dayton right now. We were lucky enough to be in Bluffton at the same time. Anna was home for fall break. So we got to meet her at her home Church First Mennonite. She's been going to Camp Friedens walled foremost for life since she was seven years old. What is something that campus taught you that you haven't learned anywhere else. I would say Camp is really like taught me about the importance of being physically immersed in nature.  ER as opposed to just like appreciating it theoretically like Camp forced me to be immersed for a whole week and they die lie, like discouraged being connected to like their technology especially because like there's no cell service there. So it's hard to even do it. Anyway. I just got to experience that for a whole week and I probably wouldn't have had the self-control to do that. Otherwise  We were still curious about what made Camp so magnetic for so many people so we asked Anna the connection between being immersed in nature 100% And also out like having frequent discussions about God and Faith. Camp is really good at putting them together and making that connection for people and it said that it helps. This is also true of the staff members in the counselors and we can understand the energy and enthusiasm of  Amy and Naomi was contagious. They're like super energetic and pumped about camp and then campers are and it's just like this community like happy people in nature appreciating God. It's like super awesome. So Sarah specific time. You can remember when you felt like you were connected to God. Yeah. So usually I do when at campfire it's like really dark and you can see the stars and like the  the fire is just like popping and we're singing like Mennonite hymns and everything's just like very calm and everybody can like reflect and be contemplatively. I think just that slowness and like calmness really helps me just to be able to focus and connect to God. So Anna has strong ties to Camp freedoms fog, but she also has strong ties in Bluffton. This was a fortunate happenstance for us because as we talked to Anna about the  Is where she feels most grounded she actually mentioned the Cooperative Farm managed by Ray person who we spoke to at the beginning of the episode as it turns out Anna's family is actually one of the 18 in raised farming Collective and that brings us to part two of this episode because not only is the farm a place for Anna to practice connecting with the land like she doesn't Camp. It is also a place where community and food are grown side by side.  What are you doing? We were at Harvest night a time where members of the collective work together on the farm to complete the week's tasks. How long have you been working? That's Anna's mom Carrie. So anything that doesn't look like this mom and her seven-year-old brother drying.  In here. Yeah, I know and do you see this is not this is not a carrot. You're there. I was gonna leave that no, no, no. No, this is this. Yeah giant took a break from weeding to show me around his favorite part of the farm the barn. Oh chickens too, huh?  Like I said, why luckily I've been studying. These are your poop shoes in the chicken coop. If you want to I know a shortcut I didn't have my farm shoes on so I carefully follow drying through the door into the dimly lit Chicken Coop. He seemed right at home.  To do in their Heist just perching on your arm there. I can put it on my shoulder what no way so me.  They don't like it in the air and I flip my back over so it hadn't planned it.  Drying and I headed back to the Garden to find the others still working on the Harvest. They were gracious enough to stop their work for a few minutes to chat with me. How about you? When did you get involved? We moved to Ohio from a more urban area and I thought when in Rome so I was pretty excited about getting involved with local agriculture. So I met with Ray he was initially concerned that I would be uncomfortable with the presence of pigs. All right.  That my husband he's from Syria is secular and that I'm Jewish. This is Maya she and her husband decided to stick around after talking with Ray and she's been a part of the Co-operative long enough to have a favorite time of year in the garden strawberries for you to know. My favorite would be potatoes and sweet potatoes.   Bruce in some informal interviewing here where you actually recording. Yeah, you still are still am yeah back to work. We did actually get back to work. Then it helped the others Harvest a variety of vegetables including squash a lot of bok choy in the very last of the tomatoes afterward. We sat down with Ray to talk with him a little bit more.  So Elizabeth why I live here, but there have been people we started with five families and we're now at 18. So that's that's been part of the vision from the beginning and are in our goals were to provide quality food organic food for ourselves to improve wildlife habitat and to build community and we've done all of those very well for a growing food as part of the Co-operative is one way for him to combat the environmental Amisha they talked about  There and it comes with the added perk of a community that over the years has become pretty tight-knit. The level of trust with this group is is really high. I mean I was thinking maybe after harvest would spend some time waiting the carrots. I never told anybody that and then Tire carrot plot at we did, you know, it's not it's so it's not like I have to initiate stuff people see things and things happen. And so  I guess in that sense. It's been easy. It's been a lot easier than I would have guessed when we talked to Anna and Orion's mom carry. She told us that one of her favorite Parts about the work nights was the conversations that they cover everything from religion to politics and that those conversations are surprisingly civil when they're had over a pot of carrots and need weeding. We have some people from other Mennonite churches in the area. We have people who've been Roman Catholic. We have some Quakers.  I mean in the we have people who are really agnostic but there's still some kind of spiritual bond that we all have in relationship to what it is were doing you met Maya. Yeah. She was born in Israel on a kibbutz her husband ziod was born Muslim and Syria hydrant Awad was born in Germany and suffered post World War Two.  Craziness married a Palestinian man. I mean there's there's there's some really interesting histories in terms of the diversity of folks have been a part of the farm and those relationships are important. So yeah, I think healing happens on the farm because of the relationships that we have formed with each other.  What the animals with the land getting her hands in the dirt using food to help us replace ourselves to dig Our Roots deeper into the soil beneath us and people around us. I find this a rather compelling idea since food is such a universal and commonplace part of our daily lives. There's the physical act of God.  Gardening that teaches us the way our local ecosystem Works learning to know the soil and plants and creatures that inhabit our Watershed. But even if you're not into gardening food is one of the most direct connections we have with the Earth. It's incredible. If you think about it, our food is made of sunlight and soil which is somehow transformed into the energy that fuels us. We are literally consuming Earth every time we eat and then there's the community component food is a great way to bring people together.  They're potlucks family dinners meal times with a host family in my experience. These can be mediums of connection.  And this all sounds good and well, but it does bring up some interesting questions. We've talked about Camp about the farm cooperative and these strategies for replacing ourselves. But what about those who don't have access to Garden space or don't have the time for it or the resources next. We'll head to the city where we meet someone who is asking some of the same questions for many years the conversation around like inequity race food and just  This we're really hovering around access really based on proximity access based on affordability. But I think the problem is much bigger than that because of systems of passing on wealth. They're very very very little farm land owned by people of color and our country meet to Luke win growing one's own food. It's the ultimate source of power, you know, I think because if you can feed your own family and we were sitting in the headquarters,  Of the Nashville Food project in Nashville, Tennessee. My name is Telugu Skylar Quinn, and I'm the executive director of the national food project, which is where we are today in Nashville, Tennessee. We sat with to Lou in her office, which is covered with vibrant posters photos of her family and pieces of art we can hear the volunteers in the kitchen down the hall chopping vegetables and frying fish for the upcoming Community dinner through the window. You can see the garden behind the building full of tomatoes beans and the rest of the late.  Crap, so this work, I love our mission because it starts with bringing people together to grow cook and share and the bring people together. It's not it's not a peripheral or ancillary part of our mission, but it's actually at the heart of this Community Food work their mission to bring people together to grow cook and share nourishing food with the goal of cultivating community and alleviating hunger in Nashville. We went through  This whole like meta conversation as a staff a couple years ago, which was like okay is community our goal and food is our tool to get there or is food and nutrition and nourishment our goal. And Community is the tool we use to get there like they're both our goals and they're both our tools. You know, it's Community Food to lose started the Nashville Food project 10 years ago. It started as a food truck and over the course of a decade has expanded to include  Action Gardens a big kitchen Community meals food recovery programs and Community Gardens around Nashville. When I started this work the food truck. We were running on Tuesday nights went up to a part of North Nashville at the intersection of Dickerson Pike and Trinity Lane and the truck on Tuesday nights at 6 p.m. Would visit for like daily weekly rate motels where people were living staying.  It was a pretty rough part of town functionally the people standing in these motels were homeless with just enough to cover the daily rate of a room increasingly though. These particular motels were like on the local news for drug busts prostitution stings police raids getting increasingly violent, and I was just lying in bed at night like worried about sending volunteers up there to share a meal and it was delicious hot meal shared off at the food truck.  Would line up at the back of the food truck get a meal on a cardboard tray and take it back into the motel room. There was really no Community Food happening. There was great nutrition being share. These are great meals. We were proud of that but there were really no relationships forming, you know, if anything was happening it was reinforcing to the mostly white affluent volunteer base. It was reinforcing these divisions between the Haves and the Have Nots and not know.  Now changing the story The ability of food to change. The story is at the heart of the Nashville Food projects work to Lou believes that routines around food can become ritual take on a deeper meaning and purpose. So the ritual of eating a meal together is an opportunity to practice what we want to see in the world to rewrite the story. So they began to wonder how this weekly Meal Time could function differently in that neighborhood. This guy named Nate called us up one day. He was working for a local.  Search just one and a half blocks from the intersection of the motel. And he said my name is Nate organizing in the community. I ride my bike around and what I'm hearing from. Our neighbors is that they want a meal. I've seen your trucks riding around in our neighborhood and I'm wondering if I got the space. Our church has a fellowship hall and I gathered the people would you guys support this work with the meal and truly answered prayer and I was like, how's Tuesday night at six o'clock.  So they designed a new plan one that falls more in line with their mission. Now the meals are held at the fellowship hall at needs church and their table setup and chairs and table cloths and real flowers in the middle of the table and everyone wears a name tag and real plates and real silverware and we've served the meals family style and everyone cleans up and you don't take meals to go that's actually like a part of this you share a meal and your together.  And the transition was hard to Lou said they didn't want to leave the residence of the motels behind they are relying on those meals. So they talk to them directing them to the church up the street same night same time and all are welcome it now today. Is this Vibrant Community meal that has become an anchor in the neighborhood and it totally transformed meal time over the course of the last five years. This community has experienced, you know people getting sober.  People dying people losing loved ones people having big milestones in their lives from children graduating two people getting married, you know, and its really been become a beautiful beautiful ritual every Tuesday night. And in that North Nashville neighborhood, they still send volunteers but rather than reinforcing the separateness between the Haves and the Have Nots the mealtime is an opportunity to share in their Humanity as to Luke puts it and so to me that's just a little  Has big impact in that Community, but an example of how the Nashville Food project is working alongside in close partnership on community food. That's really been transforming and continuing to evolve from charity to something that looks more like justice.  We begin to see what tool you meant by transitioning from charity to justice as she talked more not only has the national food project transformed its approach. They've also done a lot of work to get to know the social Landscapes of Nashville investigating power imbalances that result from divides of race and class partnering with organizations led by people of color asking communities what they want instead of projecting their own ideas onto them. These are just some of the ways that the Nashville Food project tries to equip and collaborate.  Chanel is now woven into the design of their programs. One of our garden programs is called growing together. It's a Market Garden program. All of these Farmers came to the United States as refugees and we help remove barriers that they have living in Nashville, Tennessee in apartment buildings with no access to land few of them have driver's license. There are language barriers so we can use and leverage the resources we have in terms of our relationships with chefs are  accounting our ability to connect with markets and support them and making those connections but at the end of the day, this is their program. This is their Farm they designed their own plot. They decide what they want to sell and how they want to sell it Nashville Food project just provides the tools and not only are the Community Gardens economically beneficial to the farmers that can also be a source of healing these men and women were farmers mostly from Bhutan and Burma. They all came through Nepal being  He's from their land not just from their land and vocation, but like from their identity in many ways you talk about the mountains being such a important part of where you live now, so giving them an opportunity to reconnect and he'll is really important.     The way to Lou talks about charity and Justice reminds me of a critique we heard at the rooted and grounded conference by luk bek Rider a doctoral student at the University of Virginia. Luke pointed out that learning from the nature around us while mayor double might not be enough by relying on Geographic Landscapes a grounder ethics of creation care. We run the risk of ignoring the political Landscapes that are shaped by geographies of privilege.  In Luke's words, we risk orienting Christian ethics to an a historical imaginary.  This is also what to do is saying getting to know the ecosystems of our local context growing our own food and worshipping Outdoors. These are all great things but basically an ethics of food or an ethics of climate change for that matter, exclusively on Lessons Learned From. The land is a big risk and a little naive the history of food of production and of land in this country is complex. Not at all innocent.  These things are real Hills and Valleys in the social landscape that we Traverse and if we don't see them, it might just mean that we're not looking far enough.  The rink live on and from the land like Ray and learning to navigate are troubling social landscape like to glue. These are both immensely important and I think vital to figuring out how we should respond to climate change.      The story I told at the beginning of racing down the hill in front of my house through the rain. It's a story of identity of belonging to the people who shaped my experiences in that place to the land which raised me to a home that nurtured me.  But when I talk about getting to know my home the physical and social topographies in my community. It makes me wonder.  What about those who don't feel at home to begin with who have no interest in learning from this land or for those who are once removed from their home and For Those whom to this day are being told that this is not where they belong.  And that's where you'll find this next week in episode 6 of Shifting climates.  Shifting climate is produced in collaboration with Sarah Longenecker who is also a photographer and web designer. He music is by Jesse raced and Marilyn Miller intro and credits music is by Luke mullet and transitions music is by Maria Yoder my Garber Perry blauser and John Bishop special thanks to the Center for sustainable climate Solutions who is sponsoring this project. Shout out to the staff at can't friends hard for showing us around and providing everything.  Needed for a relaxing weekend retreat including a deck of Dutch Blitz cards that kept us occupied for an entire evening and special thanks to Kevin Seidel my freshman writing Professor who inspired the story. I told at the beginning of the episode you can find us at www.ufxmarkets.com where we have photo essays and previews of episodes to come. I'm Harrison Hurst and I'm Michaela Mast. See you next week.\n"
     ]
    }
   ],
   "source": [
    "def get_transcription(episode):\n",
    "    with open(get_path(episode), 'r') as f:\n",
    "        episode_json = json.load(f)\n",
    "        # seems that the last result in each trastcript is a repetition of the first one, so we ignore it\n",
    "        transcripts = [\n",
    "            result[\"alternatives\"][0]['transcript'] if 'transcript' in result[\"alternatives\"][0] else \"\"\n",
    "            for result in episode_json[\"results\"][:-1]\n",
    "        ]\n",
    "        return \" \".join(transcripts)\n",
    "\n",
    "\n",
    "print(f\"Episode description:\\n{episode_example_train['episode_description']}\")\n",
    "print(f\"\\nEpisode transcription:\\n{' '.join(transcripts)}\")"
   ]
  },
  {
   "cell_type": "code",
   "execution_count": 99,
   "metadata": {},
   "outputs": [],
   "source": [
    "strip_chars = string.punctuation\n",
    "strip_chars = strip_chars.replace(\"[\", \"\")\n",
    "strip_chars = strip_chars.replace(\"]\", \"\")\n",
    "\n",
    "def custom_standardization(input_string):\n",
    "    lowercase = tf.strings.lower(input_string)\n",
    "    return tf.strings.regex_replace(lowercase, \"[%s]\" % re.escape(strip_chars), \"\")\n",
    "\n",
    "X_vectorizer = keras.layers.TextVectorization(max_tokens=VOCAB_SIZE, output_mode='int', output_sequence_length=SEQUENCE_LENGTH)\n",
    "y_vectorizer = keras.layers.TextVectorization(max_tokens=VOCAB_SIZE, output_mode='int', output_sequence_length=SEQUENCE_LENGTH + 1, standardize=custom_standardization)"
   ]
  },
  {
   "cell_type": "code",
   "execution_count": null,
   "metadata": {},
   "outputs": [],
   "source": [
    "X, y = [], []\n",
    "for _, row in metadata_train.iloc[:1000].iterrows():\n",
    "    if os.path.isfile(get_path(row)):\n",
    "        X.append(get_transcription(row))\n",
    "        y.append(row['episode_description'])\n",
    "y[0], X[0]"
   ]
  },
  {
   "cell_type": "code",
   "execution_count": 103,
   "metadata": {},
   "outputs": [],
   "source": [
    "def format_strings(transcription, summary):\n",
    "    transcription = X_vectorizer(transcription)\n",
    "    summary = y_vectorizer(summary)\n",
    "    return ({\"encoder_inputs\": transcription, \"decoder_inputs\": summary[:, :-1],}, summary[:, 1:])"
   ]
  },
  {
   "cell_type": "code",
   "execution_count": 104,
   "metadata": {},
   "outputs": [],
   "source": [
    "X_vectorizer.adapt(X)\n",
    "y_vectorizer.adapt(y)\n",
    "dataset = tf.data.Dataset.from_tensor_slices((np.array(X),np.array(y)))\n",
    "dataset = dataset.batch(BATCH_SIZE)\n",
    "dataset = dataset.map(format_strings)\n",
    "dataset = dataset.shuffle(2048).prefetch(16).cache()"
   ]
  },
  {
   "cell_type": "code",
   "execution_count": 63,
   "metadata": {},
   "outputs": [],
   "source": [
    "class TransformerEncoder(keras.layers.Layer):\n",
    "    def __init__(self, embed_dim, dense_dim, num_heads, **kwargs):\n",
    "        super(TransformerEncoder, self).__init__(**kwargs)\n",
    "        self.embed_dim = embed_dim\n",
    "        self.dense_dim = dense_dim\n",
    "        self.num_heads = num_heads\n",
    "        self.attention = keras.layers.MultiHeadAttention(\n",
    "            num_heads=num_heads, key_dim=embed_dim\n",
    "        )\n",
    "        self.dense_proj = keras.Sequential(\n",
    "            [keras.layers.Dense(dense_dim, activation=\"relu\"), keras.layers.Dense(embed_dim),]\n",
    "        )\n",
    "        self.layernorm_1 = keras.layers.LayerNormalization()\n",
    "        self.layernorm_2 = keras.layers.LayerNormalization()\n",
    "        self.supports_masking = True\n",
    "\n",
    "    def call(self, inputs, mask=None):\n",
    "        if mask is not None:\n",
    "            padding_mask = tf.cast(mask[:, tf.newaxis, tf.newaxis, :], dtype=\"int32\")\n",
    "        attention_output = self.attention(\n",
    "            query=inputs, value=inputs, key=inputs, attention_mask=padding_mask\n",
    "        )\n",
    "        proj_input = self.layernorm_1(inputs + attention_output)\n",
    "        proj_output = self.dense_proj(proj_input)\n",
    "        return self.layernorm_2(proj_input + proj_output)\n",
    "\n",
    "\n",
    "class PositionalEmbedding(keras.layers.Layer):\n",
    "    def __init__(self, sequence_length, vocab_size, embed_dim, **kwargs):\n",
    "        super(PositionalEmbedding, self).__init__(**kwargs)\n",
    "        self.token_embeddings = keras.layers.Embedding(\n",
    "            input_dim=vocab_size, output_dim=embed_dim\n",
    "        )\n",
    "        self.position_embeddings = keras.layers.Embedding(\n",
    "            input_dim=sequence_length, output_dim=embed_dim\n",
    "        )\n",
    "        self.sequence_length = sequence_length\n",
    "        self.vocab_size = vocab_size\n",
    "        self.embed_dim = embed_dim\n",
    "\n",
    "    def call(self, inputs):\n",
    "        length = tf.shape(inputs)[-1]\n",
    "        positions = tf.range(start=0, limit=length, delta=1)\n",
    "        embedded_tokens = self.token_embeddings(inputs)\n",
    "        embedded_positions = self.position_embeddings(positions)\n",
    "        return embedded_tokens + embedded_positions\n",
    "\n",
    "    def compute_mask(self, inputs, mask=None):\n",
    "        return tf.math.not_equal(inputs, 0)\n",
    "\n",
    "\n",
    "class TransformerDecoder(keras.layers.Layer):\n",
    "    def __init__(self, embed_dim, latent_dim, num_heads, **kwargs):\n",
    "        super(TransformerDecoder, self).__init__(**kwargs)\n",
    "        self.embed_dim = embed_dim\n",
    "        self.latent_dim = latent_dim\n",
    "        self.num_heads = num_heads\n",
    "        self.attention_1 = keras.layers.MultiHeadAttention(\n",
    "            num_heads=num_heads, key_dim=embed_dim\n",
    "        )\n",
    "        self.attention_2 = keras.layers.MultiHeadAttention(\n",
    "            num_heads=num_heads, key_dim=embed_dim\n",
    "        )\n",
    "        self.dense_proj = keras.Sequential(\n",
    "            [keras.layers.Dense(latent_dim, activation=\"relu\"), keras.layers.Dense(embed_dim),]\n",
    "        )\n",
    "        self.layernorm_1 = keras.layers.LayerNormalization()\n",
    "        self.layernorm_2 = keras.layers.LayerNormalization()\n",
    "        self.layernorm_3 = keras.layers.LayerNormalization()\n",
    "        self.supports_masking = True\n",
    "\n",
    "    def call(self, inputs, encoder_outputs, mask=None):\n",
    "        causal_mask = self.get_causal_attention_mask(inputs)\n",
    "        if mask is not None:\n",
    "            padding_mask = tf.cast(mask[:, tf.newaxis, :], dtype=\"int32\")\n",
    "            padding_mask = tf.minimum(padding_mask, causal_mask)\n",
    "\n",
    "        attention_output_1 = self.attention_1(\n",
    "            query=inputs, value=inputs, key=inputs, attention_mask=causal_mask\n",
    "        )\n",
    "        out_1 = self.layernorm_1(inputs + attention_output_1)\n",
    "\n",
    "        attention_output_2 = self.attention_2(\n",
    "            query=out_1,\n",
    "            value=encoder_outputs,\n",
    "            key=encoder_outputs,\n",
    "            attention_mask=padding_mask,\n",
    "        )\n",
    "        out_2 = self.layernorm_2(out_1 + attention_output_2)\n",
    "\n",
    "        proj_output = self.dense_proj(out_2)\n",
    "        return self.layernorm_3(out_2 + proj_output)\n",
    "\n",
    "    def get_causal_attention_mask(self, inputs):\n",
    "        input_shape = tf.shape(inputs)\n",
    "        batch_size, sequence_length = input_shape[0], input_shape[1]\n",
    "        i = tf.range(sequence_length)[:, tf.newaxis]\n",
    "        j = tf.range(sequence_length)\n",
    "        mask = tf.cast(i >= j, dtype=\"int32\")\n",
    "        mask = tf.reshape(mask, (1, input_shape[1], input_shape[1]))\n",
    "        mult = tf.concat(\n",
    "            [tf.expand_dims(batch_size, -1), tf.constant([1, 1], dtype=tf.int32)],\n",
    "            axis=0,\n",
    "        )\n",
    "        return tf.tile(mask, mult)"
   ]
  },
  {
   "cell_type": "code",
   "execution_count": 93,
   "metadata": {},
   "outputs": [],
   "source": [
    "embed_dim = 256\n",
    "latent_dim = 2048\n",
    "num_heads = 8\n",
    "\n",
    "encoder_inputs = keras.Input(shape=(None,),\n",
    "                             dtype=\"int64\",\n",
    "                             name=\"encoder_inputs\")\n",
    "x = PositionalEmbedding(SEQUENCE_LENGTH, VOCAB_SIZE, embed_dim)(encoder_inputs)\n",
    "encoder_outputs = TransformerEncoder(embed_dim, latent_dim, num_heads)(x)\n",
    "encoder = keras.Model(encoder_inputs, encoder_outputs)\n",
    "\n",
    "decoder_inputs = keras.Input(shape=(None,),\n",
    "                             dtype=\"int64\",\n",
    "                             name=\"decoder_inputs\")\n",
    "encoded_seq_inputs = keras.Input(shape=(None, embed_dim),\n",
    "                                 name=\"decoder_state_inputs\")\n",
    "x = PositionalEmbedding(SEQUENCE_LENGTH, VOCAB_SIZE, embed_dim)(decoder_inputs)\n",
    "x = TransformerDecoder(embed_dim, latent_dim, num_heads)(x, encoded_seq_inputs)\n",
    "x = keras.layers.Dropout(0.5)(x)\n",
    "decoder_outputs = keras.layers.Dense(VOCAB_SIZE, activation=\"softmax\")(x)\n",
    "decoder = keras.Model([decoder_inputs, encoded_seq_inputs], decoder_outputs, name=\"decoder\")\n",
    "\n",
    "decoder_outputs = decoder([decoder_inputs, encoder_outputs])\n",
    "transformer = keras.Model([encoder_inputs, decoder_inputs],\n",
    "                          decoder_outputs,\n",
    "                          name=\"transformer\")"
   ]
  },
  {
   "cell_type": "code",
   "execution_count": 106,
   "metadata": {},
   "outputs": [
    {
     "name": "stdout",
     "output_type": "stream",
     "text": [
      "Model: \"transformer\"\n",
      "__________________________________________________________________________________________________\n",
      " Layer (type)                   Output Shape         Param #     Connected to                     \n",
      "==================================================================================================\n",
      " encoder_inputs (InputLayer)    [(None, None)]       0           []                               \n",
      "                                                                                                  \n",
      " positional_embedding_10 (Posit  (None, None, 256)   2624000     ['encoder_inputs[0][0]']         \n",
      " ionalEmbedding)                                                                                  \n",
      "                                                                                                  \n",
      " decoder_inputs (InputLayer)    [(None, None)]       0           []                               \n",
      "                                                                                                  \n",
      " transformer_encoder_5 (Transfo  (None, None, 256)   3155456     ['positional_embedding_10[0][0]']\n",
      " rmerEncoder)                                                                                     \n",
      "                                                                                                  \n",
      " decoder (Functional)           (None, None, 10000)  10453520    ['decoder_inputs[0][0]',         \n",
      "                                                                  'transformer_encoder_5[0][0]']  \n",
      "                                                                                                  \n",
      "==================================================================================================\n",
      "Total params: 16,232,976\n",
      "Trainable params: 16,232,976\n",
      "Non-trainable params: 0\n",
      "__________________________________________________________________________________________________\n",
      "Epoch 1/10\n",
      "5/5 [==============================] - 23s 5s/step - loss: 2.1534 - accuracy: 0.0305\n",
      "Epoch 2/10\n",
      "5/5 [==============================] - 28s 7s/step - loss: 2.0415 - accuracy: 0.0409\n",
      "Epoch 3/10\n",
      "5/5 [==============================] - 47s 11s/step - loss: 2.0176 - accuracy: 0.0434\n",
      "Epoch 4/10\n",
      "5/5 [==============================] - 27s 6s/step - loss: 1.9997 - accuracy: 0.0453\n",
      "Epoch 5/10\n",
      "5/5 [==============================] - 26s 6s/step - loss: 1.9880 - accuracy: 0.0473\n",
      "Epoch 6/10\n",
      "5/5 [==============================] - 26s 6s/step - loss: 1.9542 - accuracy: 0.0523\n",
      "Epoch 7/10\n",
      "5/5 [==============================] - 26s 6s/step - loss: 1.9164 - accuracy: 0.0668\n",
      "Epoch 8/10\n",
      "5/5 [==============================] - 27s 6s/step - loss: 1.8789 - accuracy: 0.0856\n",
      "Epoch 9/10\n",
      "5/5 [==============================] - 27s 6s/step - loss: 1.7989 - accuracy: 0.1135\n",
      "Epoch 10/10\n",
      "5/5 [==============================] - 25s 6s/step - loss: 1.7125 - accuracy: 0.1797\n"
     ]
    },
    {
     "data": {
      "text/plain": [
       "<keras.callbacks.History at 0x7fe220e0f070>"
      ]
     },
     "execution_count": 106,
     "metadata": {},
     "output_type": "execute_result"
    }
   ],
   "source": [
    "\n",
    "transformer.summary()\n",
    "transformer.compile(\"rmsprop\",\n",
    "                    loss=\"sparse_categorical_crossentropy\",\n",
    "                    metrics=[\"accuracy\"])\n",
    "transformer.fit(dataset, epochs=10)"
   ]
  },
  {
   "cell_type": "code",
   "execution_count": null,
   "metadata": {},
   "outputs": [],
   "source": []
  }
 ],
 "metadata": {
  "interpreter": {
   "hash": "63e28586807c6502c782d898cf9a0cc5787bb3d77952b17b51ec8bdcd4044a3d"
  },
  "kernelspec": {
   "display_name": "Python 3.9.7 ('nlp1')",
   "language": "python",
   "name": "python3"
  },
  "language_info": {
   "codemirror_mode": {
    "name": "ipython",
    "version": 3
   },
   "file_extension": ".py",
   "mimetype": "text/x-python",
   "name": "python",
   "nbconvert_exporter": "python",
   "pygments_lexer": "ipython3",
   "version": "3.9.7"
  },
  "orig_nbformat": 4
 },
 "nbformat": 4,
 "nbformat_minor": 2
}
