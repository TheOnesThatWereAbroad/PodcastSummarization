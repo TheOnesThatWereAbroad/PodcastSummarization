{
 "cells": [
  {
   "cell_type": "markdown",
   "metadata": {},
   "source": [
    "# Task 2: Summarization\n",
    "Podcasts are a rapidly growing medium for news, commentary, entertainment, and learning.  Some podcast shows release new episodes on a regular schedule (daily, weekly, etc); others irregularly.  Some podcast shows feature short episodes of 5 minutes or less touching on one or two topics; others may release 3+ hour long episodes touching on a wide range of topics.  Some are structured as news delivery, some as conversations, some as storytelling.\n",
    "\n",
    "Given a podcast episode, its audio, and transcription, return a short text snippet capturing the most important information in the content. Returned summaries should be grammatical, standalone statement of significantly shorter length than the input episode description.\n",
    "\n",
    "The user task is to provide a short text summary that the user might read when deciding whether to listen to a podcast. Thus the summary should accurately convey the content of the podcast, and be short enough to quickly read on a smartphone screen. It should also be human-readable."
   ]
  },
  {
   "cell_type": "code",
   "execution_count": 1,
   "metadata": {},
   "outputs": [],
   "source": [
    "import pandas as pd\n",
    "import numpy as np\n",
    "import os\n",
    "import re\n",
    "import json\n",
    "\n",
    "from IPython.display import display, Javascript"
   ]
  },
  {
   "cell_type": "code",
   "execution_count": 2,
   "metadata": {},
   "outputs": [],
   "source": [
    "dataset_path = os.path.join(os.path.abspath(\"\"), 'podcasts-no-audio-13GB')"
   ]
  },
  {
   "cell_type": "markdown",
   "metadata": {},
   "source": [
    "### Training set inspection"
   ]
  },
  {
   "cell_type": "code",
   "execution_count": 3,
   "metadata": {},
   "outputs": [
    {
     "name": "stdout",
     "output_type": "stream",
     "text": [
      "Columns:  Index(['show_uri', 'show_name', 'show_description', 'publisher', 'language',\n",
      "       'rss_link', 'episode_uri', 'episode_name', 'episode_description',\n",
      "       'duration', 'show_filename_prefix', 'episode_filename_prefix'],\n",
      "      dtype='object')\n",
      "Shape:  (105360, 12)\n"
     ]
    }
   ],
   "source": [
    "metadata_path_train = os.path.join(dataset_path, 'metadata.tsv')\n",
    "metadata_train = pd.read_csv(metadata_path_train, sep='\\t')\n",
    "print(\"Columns: \", metadata_train.columns)\n",
    "print(\"Shape: \", metadata_train.shape)"
   ]
  },
  {
   "cell_type": "markdown",
   "metadata": {},
   "source": [
    "Analyze one episode of the trian dataset"
   ]
  },
  {
   "cell_type": "code",
   "execution_count": 4,
   "metadata": {},
   "outputs": [
    {
     "name": "stdout",
     "output_type": "stream",
     "text": [
      "show_uri                                 spotify:show:2NYtxEZyYelR6RMKmjfPLB\n",
      "show_name                                               Kream in your Koffee\n",
      "show_description           A 20-something blunt female takes on the world...\n",
      "publisher                                                        Katie Houle\n",
      "language                                                              ['en']\n",
      "rss_link                            https://anchor.fm/s/11b84b68/podcast/rss\n",
      "episode_uri                           spotify:episode:000A9sRBYdVh66csG2qEdj\n",
      "episode_name                                         1: It’s Christmas Time!\n",
      "episode_description        On the first ever episode of Kream in your Kof...\n",
      "duration                                                           12.700133\n",
      "show_filename_prefix                             show_2NYtxEZyYelR6RMKmjfPLB\n",
      "episode_filename_prefix                               000A9sRBYdVh66csG2qEdj\n",
      "Name: 0, dtype: object\n",
      "\n",
      "Copy this uri into the browser to listen to the episode:\n",
      " spotify:episode:000A9sRBYdVh66csG2qEdj\n"
     ]
    }
   ],
   "source": [
    "i = 0\n",
    "episode_example_train = metadata_train.iloc[i]\n",
    "print(episode_example_train)\n",
    "print(\"\\nCopy this uri into the browser to listen to the episode:\\n\", episode_example_train['episode_uri'])"
   ]
  },
  {
   "cell_type": "code",
   "execution_count": 6,
   "metadata": {},
   "outputs": [
    {
     "name": "stdout",
     "output_type": "stream",
     "text": [
      "Transcript path:\n",
      " c:\\Users\\peppe\\UNIBO\\Natural Language Processing\\lab\\Project\\podcasts-no-audio-13GB\\podcasts-transcripts-0to2\\spotify-podcasts-2020\\podcasts-transcripts\\2\\N\\show_2NYtxEZyYelR6RMKmjfPLB\\000A9sRBYdVh66csG2qEdj.json\n"
     ]
    }
   ],
   "source": [
    "# extract the 2 reference number/letter to access the episode transcript\n",
    "show_filename = episode_example_train['show_filename_prefix']\n",
    "episode_filename = episode_example_train['episode_filename_prefix'] + \".json\"\n",
    "dir_1, dir_2 = re.match(r'show_(\\d)(\\w).*', show_filename).groups()\n",
    "\n",
    "interval_folders = [range(0,3), range(3, 6), range(6,8)]\n",
    "\n",
    "# check which is the main folder containing the transcript\n",
    "main_dir = \"\"\n",
    "for interval in interval_folders:\n",
    "    if int(dir_1) in interval:\n",
    "        main_dir = \"podcasts-transcripts-{}to{}\".format(interval[0], interval[-1])\n",
    "assert main_dir != \"\"\n",
    "\n",
    "# check if the transcript file in all the derived subfolders exist\n",
    "transcipt_path = os.path.join(dataset_path, main_dir, \"spotify-podcasts-2020\", \"podcasts-transcripts\", dir_1, dir_2, show_filename, episode_filename)\n",
    "assert os.path.isfile(transcipt_path)\n",
    "\n",
    "print(\"Transcript path:\\n\", transcipt_path)"
   ]
  },
  {
   "cell_type": "code",
   "execution_count": 7,
   "metadata": {},
   "outputs": [
    {
     "name": "stdout",
     "output_type": "stream",
     "text": [
      "Episode description:\n",
      "On the first ever episode of Kream in your Koffee, Katie talks about tips for Christmas shopping. We also get a little insight into who and what we’ll be hearing about in next weeks episode! \n",
      "\n",
      "Episode transcription:\n",
      "Hello. Hello. Hello everyone. This is Katie and we are here together on our first ever episode of cream in your coffee. Thank you so much guys for humoring me on this podcast Journey. It's been a huge goal of mine for the past few years. I finally just growing a pair and jumping right into it and seeing how it goes. So, thank you again for bearing with me here.  Alrighty guys, so I figured for the first episode why not jump into a topic that is so exciting for pretty much everybody out there just around the corner and seven or eight days. We have the wonderful Christmas and I'm so excited Christmas is a great time of year for me. I just love the spirit of happiness and joy and the giving spirit. I love every single part of it and I hope that you guys are excited for it to obviously it would definitely  I say that most people are I find most excited about receiving gifts around Christmas time. I'm definitely the opposite I get really really awkward when someone gives me a gift but I get so excited to give someone else a gift and just to see their faces when they open it. I'd like to think that I'm pretty good with gifts. I usually think of something like thoughtful or I'll even make something for someone so it really just depends on the person obviously, but I don't know doing something nice for someone always feels good, right?  Anyways, so I wanted to just give a couple tips for you guys because I did work retail for several years of my life and I'm honestly very very happy that I am not this year because I hate crowds and even though I work with people I kind of hate people. So seeing frantic men and women running all over the mall trying to figure out what to buy their loved ones for a holiday. That's like usually two days away is a little stressful for me, but this year I don't have to worry about  But thank goodness.  So my first tip for you guys is going to seem probably unhelpful right this minute, but in future Christmases to come it's going to save you big time. It's going to save you stress and it's going to save you money come December so  I'm going to say tip. Number one Santa knew what was up. Okay, make a list and check that shit twice. I don't mean make a list right before you go out shopping the day of gentlemen. I'm sure your shopping Christmas Eve. Stop fucking doing that. I mean throughout the year make a list of things that your friends and family make comments about so things that they always use things that they want things they enjoy  And this is going to save you a headache because not only is this list going to have a backup list of things that you can buy if you are totally stuck on gifts, but you also have something to reference all year long.  When you can pick things up, so this is where it's going to save you financially. You're not coming around to December of next year and you're like shit. I don't have enough money to buy Christmas gifts or you know, you see those memes that are like it looks like people going to be getting a Merry Christmas message for Christmas. That's what my bank account looks like. No, you're going to go it's going to be July and your best friend Janine really likes, you know, Marc Jacobs Daisy perfume. So you pick it up in July and then you have it in your closet for Janine come to  Brr. Okay, it's going to save you a gift that you have to remember to buy and it's going to save you money in December when you're already forking out the dough tip number one make a list kind of wraps into this number two or tip number two, because tip number two is by throughout the year things are going to go on sale people always get so excited for like Black Friday shopping and Boxing Day sales. I will say Boxing Day tends to have a little bit better.  Sales, I personally find four things then Black Friday, but I've had this conversation with people before where they're like, oh my God, like Black Friday deals are so good. But people are lined up around the block. I guarantee you that Best Buy has pretty much that same deal on a television Midway through the year. You just don't notice because you're not looking it up. So just be conscientious of what you're looking to buy and when the deals are honestly check throughout the year and you're going to save yourself at least like four.  Out a chunk of dough in December at least you're saving yourself that financial burden if not finding the deals as well and saving money that way so tip number one is make a list and tip number two is by throughout the year.  The last tip that I'll leave you guys with for the Christmas season is the three gift rule. So this is something that I initially started doing for children and realize that it was also a really good starting point for gifts for your adult friends as well. So I the gifts are very simple one thing you want one thing you need and one thing to read. So one thing they want something they've brought up something that they've mentioned to you that they would love to have.  But they just can't afford right now or whatever one thing they need. So ladies, you know, if your man's taking his pants off and his boxers look like moths have gotten into his underwear drawer. He needs some briefs and or Underoos or boxers or whatever the hell you call them. Go get you a man's some underwear. So again, the first two is one thing you want and one thing you need one thing you read. I love this one.  Honestly, this is great. I love it because I used to read all the time and now it takes me five months to read a book that I would probably finish in two days. So one thing to read gets everyone on that educational truck and gives their brain a little bit of a workout.  Now the one thing to read is also kind of a fun little gift because it gives the other person that you are giving to an insight into your brain and what you would kind of read or at least what you would suggest for them. So it opens up some Avenues of may be an author that they never thought to look into or some storylines that they might like that they didn't know they would so it's like a gift that keeps on giving you know, it's wonderful.  So those are my three Christmas tips for you guys tip 1 make a list and check it twice tip to shop throughout the year rather than leaving it as one huge task and lump sum of money that you need to Shell out come December and tip 3 is try the three gift rule.  So hopefully you guys found those tips at least minimally helpful. I found that anyone that I have told those things to obviously prior to December 17th have actually found that quite helpful to kind of do it throughout the year. Like I said, it just takes a lot of Burden off of you and the third tip at least helps you to have a platform to start with on how and where to start getting gifts.  So guys, like I said, I'm a huge fan of Christmas as much as I love the spirit of it though. Like if you know me in person, you've seen me dressed up for work for Christmas full on Santa socks the whole getup that being said with all this excitement that I have for the Christmas season. I don't actually decorate my place. Um, I think I have one stocking that A friend gave me several years ago. And that's the one Christmas decoration that I have and that goes  On my door, so I'm not a huge decorator surprisingly enough. I will be having a guest on next week though for next episode and her family goes all out. So we will definitely be talking with her about her Christmas traditions and how they decorate.  Now you guys are probably thinking like what the fuck is this person talking about she loves Christmas, but she doesn't decorate what is up with that. I don't know. I'm just not a huge decorating person. It might also be because I have two small dogs and they just get into everything. I also live alone. So I think it just for me at least seems a little silly to set up a whole bunch of Christmas decorations just to take them down for myself to look at them. I don't know if that's just a lot of effort with  A lot of return I guess. I don't know. I don't like Snow either. So the weather recently hasn't exactly been my favorite, but given that it is Christmas. I will take a nice fluffy layer of snow for Christmas day that's acceptable, I guess so mother nature. Feel free to send us a little bit of snow, but no ice no hail and no freezing rain. Thank you.  So I'm not a huge fan of snow and I don't decorate my place and I'm not a huge fan of receiving gifts. I mean you guys are probably thinking why does this woman keeps saying that she loves Christmas. So here is why I love Christmas. As I said before. I love the joy that everyone has I love the good mood that it puts most people in although I hate snow. I do like when it looks like a winter wonderland - the slush and the slipping  So the joy I guess but absolutely my number one favorite thing about this season is seasonal coffees. So eggnog latte is Starbucks. You know, what the fuck is up? That is my favorite. Honestly, eggnog anything throw me some rum in that nog and we got a good time going on and also just the little the cops to  Like just the festive little cups that they give you I love every part of it. Yeah, if you didn't catch that, I love eggnog. So in case anyone wants to gift me eggnog I can do something fun with that. Maybe I don't I don't fucking know if anyone has any ideas of eggnog cocktails as well. I recently discovered an eggnog colada so fucking good. Maybe we'll talk about that on the next episode but  Yeah, I mean definitely go check just Starbucks and check out the eggnog latte is because if you seen my stories I pretty much have at least one a day for the entire month of December and then I wonder why I gained weight and it's actually because I've been drinking all the cream and egg. Nog me now as for Christmas traditions, I don't really do much. Typically I hang out with my family on Christmas Day.  As most people do my family as you know, as you get older people typically end up moving all over the place. So this year we won't be having a big family Christmas. I am lucky enough to have a fantastic boyfriend who is hosting Christmas Eve dinner this year. So I'll be able to spend some time with him and hopefully I will be able to visit my brother and his fiance who are actually expecting so I'm very excited to see them.  And say hello to their little nugget that is not born yet. But I think I got the right to rub her belly and say hello to the outer womb given. I'm the baby's Aunt I don't know Roxy if you're listening to this, please let me know if I'm not allowed to do that. So I don't make an awkward situation down the road. Anyways guys. Thank you so much for listening. Like I said huge huge.  Huge shout out to every single one of you that has listened because I am extremely nervous, but I'm really happy that I put myself out there and gave it a try. So thank you so so much guys, and we will see you next episode where I will be interviewing one of my good friends Katarina who like I said, her family is a huge Christmas family, and we'll be learning a little bit more about what they do for Christmas on the next episode. Thanks for tuning in guys. Bye.\n"
     ]
    }
   ],
   "source": [
    "with open(transcipt_path, 'r') as f:\n",
    "    episode_json = json.load(f)\n",
    "    # seems that the last result in each trastcript is a repetition of the first one, so we ignore it\n",
    "    transcripts = [result[\"alternatives\"][0]['transcript'] for result in episode_json[\"results\"][:-1]]\n",
    "\n",
    "print(f\"Episode description:\\n{episode_example_train['episode_description']}\")\n",
    "print(f\"\\nEpisode transcription:\\n{' '.join(transcripts)}\")"
   ]
  },
  {
   "cell_type": "markdown",
   "metadata": {},
   "source": [
    "### Golden set\n",
    "**Golden set pool 1**\n",
    "\n",
    "Creator-provided podcast episode descriptions will be judged by assessors who have read the entire transcript. The judgements will be on an EGFB (Excellent, Good, Fair, Bad) scale as approximately follows:\n",
    "\n",
    "* Excellent: the summary accurately conveys all the most important attributes of the episode, which could include topical content, genre, and participants. It contains almost no redundant material which isn’t needed when deciding whether to listen.\n",
    "* Good: the summary conveys most of the most important attributes and gives the reader a reasonable sense of what the episode contains. Does not need to be fully coherent or well edited. It contains little redundant material which isn’t needed when deciding whether to listen.\n",
    "* Fair: the summary conveys some attributes of the content but gives the reader an imperfect or incomplete sense of what the episode contains. It may contain some redundant material which isn’t needed when deciding whether to listen.\n",
    "* Bad: the summary does not convey any of the most important content items of the episode or gives the reader an incorrect sense of what the episode contains. It may contain a lot of redundant information that isn’t needed when deciding whether to listen to the episode.\n",
    "\n",
    "The pool will be filtered down to the subset that have been judged to be excellent. Evaluation on this subset of the labels is analogous to predicting the creator-provided episode description, in the subset of episodes where the description is high quality.\n",
    "\n",
    "**Golden set pool 2**\n",
    "\n",
    "Automatically-generated summaries produced by participants for a same set of podcasts. They will be given relevance assessments (on an EFGB scale) by assessors. The pool will be filtered down to the subset that have been judged to be excellent (on an EGFB scale).\n",
    "\n",
    "The test set will be selected to have qualified descriptions which will be used as the standard to which the submitted summaries will be compared. Submitted summaries will be judged on a four-step scale (EGFB) intended for a listener to be able to make a decision whether to listen to a podcast or not, conveying a gist of what the user should expect to hear listening to the podcast. This first year, they will not be expected to include assessment for style, format, or other aesthetic or non-topical qualities."
   ]
  },
  {
   "cell_type": "code",
   "execution_count": 14,
   "metadata": {},
   "outputs": [
    {
     "name": "stdout",
     "output_type": "stream",
     "text": [
      "Columns:  Index(['show name', 'episode name', 'episode id', 'creator description',\n",
      "       'EGFB', 'lexrank summary', 'EGFB.1', 'textrank summary', 'EGFB.2',\n",
      "       'lsa summary', 'EGFB.3', 'quasi-supervised summary', 'EGFB.4',\n",
      "       'supervised summary', 'EGFB.5'],\n",
      "      dtype='object')\n",
      "Shape:  (150, 15)\n"
     ]
    }
   ],
   "source": [
    "metadata_path_gold = os.path.join(dataset_path, '150gold.tsv')\n",
    "metadata_gold = pd.read_csv(metadata_path_gold, sep='\\t')\n",
    "print(\"Columns: \", metadata_gold.columns)\n",
    "print(\"Shape: \", metadata_gold.shape)"
   ]
  },
  {
   "cell_type": "code",
   "execution_count": 42,
   "metadata": {},
   "outputs": [
    {
     "name": "stdout",
     "output_type": "stream",
     "text": [
      "show name                                               Alpha Male Strategies\n",
      "episode name                Passive Aggressive Women & Developing Mental S...\n",
      "episode id                             spotify:episode:4KRC1TZ28FavN3J5zLHEtQ\n",
      "creator description         Boost the podcast! Leave a 5-star review on th...\n",
      "EGFB                                                                        B\n",
      "lexrank summary             All right guys now as y'all guys might know so...\n",
      "EGFB.1                                                                      G\n",
      "textrank summary            There's no such thing as talk about passengers...\n",
      "EGFB.2                                                                      F\n",
      "lsa summary                 I'll pay for all you guys who don't know what ...\n",
      "EGFB.3                                                                      F\n",
      "quasi-supervised summary    All women a passive-aggressive. When a woman w...\n",
      "EGFB.4                                                                      G\n",
      "supervised summary          Rejection is a woman’s way of saying you’re no...\n",
      "EGFB.5                                                                      B\n",
      "Name: 0, dtype: object\n",
      "\n",
      "Copy this uri into the browser to listen to the episode:\n",
      " spotify:episode:4KRC1TZ28FavN3J5zLHEtQ\n"
     ]
    }
   ],
   "source": [
    "i = 0\n",
    "episode_example_gold = metadata_gold.iloc[i]\n",
    "print(episode_example_gold)\n",
    "print(\"\\nCopy this uri into the browser to listen to the episode:\\n\", episode_example_gold['episode id'])"
   ]
  },
  {
   "cell_type": "code",
   "execution_count": 48,
   "metadata": {},
   "outputs": [
    {
     "name": "stdout",
     "output_type": "stream",
     "text": [
      "Transcript path:\n",
      " c:\\Users\\peppe\\UNIBO\\Natural Language Processing\\lab\\Project\\podcasts-no-audio-13GB\\podcasts-transcripts-3to5\\spotify-podcasts-2020\\podcasts-transcripts\\3\\Z\\show_3Z2DiiMgsKo9h6EfuWkVPY\\4KRC1TZ28FavN3J5zLHEtQ.json\n"
     ]
    }
   ],
   "source": [
    "# find the corresponding episode in the train set\n",
    "episode_example_gold = pd.concat([metadata_gold.iloc[i], metadata_train[metadata_train['episode_uri'] == episode_example_gold['episode id']].iloc[0]])\n",
    "\n",
    "# extract the 2 reference number/letter to access the episode transcript\n",
    "show_filename = episode_example_gold['show_filename_prefix']\n",
    "episode_filename = episode_example_gold['episode_filename_prefix'] + \".json\"\n",
    "dir_1, dir_2 = re.match(r'show_(\\d)(\\w).*', show_filename).groups()\n",
    "\n",
    "interval_folders = [range(0,3), range(3, 6), range(6,8)]\n",
    "\n",
    "# check which is the main folder containing the transcript\n",
    "main_dir = \"\"\n",
    "for interval in interval_folders:\n",
    "    if int(dir_1) in interval:\n",
    "        main_dir = \"podcasts-transcripts-{}to{}\".format(interval[0], interval[-1])\n",
    "assert main_dir != \"\"\n",
    "\n",
    "# check if the transcript file in all the derived subfolders exist\n",
    "transcipt_path_gold = os.path.join(dataset_path, main_dir, \"spotify-podcasts-2020\", \"podcasts-transcripts\", dir_1, dir_2, show_filename, episode_filename)\n",
    "assert os.path.isfile(transcipt_path_gold)\n",
    "\n",
    "print(\"Transcript path:\\n\", transcipt_path_gold)"
   ]
  },
  {
   "cell_type": "code",
   "execution_count": 54,
   "metadata": {},
   "outputs": [
    {
     "name": "stdout",
     "output_type": "stream",
     "text": [
      "Episode description:\n",
      "Boost the podcast! Leave a 5-star review on the Apple, and Stitcher podcast apps.  YouTube- AMS Check out my Patreon for my latest content - https://www.patreon.com/alphamalestra...  Coaching - http://www.alphamalestrategies.com  Instagram - https://www.instagram.com/alpha_male_s/  AMS Fitness channel - https://m.youtube.com/channel/UCwS7o_...  AMS Clothing - http://amsclothingbrand.com/  Purchase E-book @ amazon.com. Don't try to buy on amazon app. follow link @ https://www.amazon.com/dp/B07HDCLCK5/...  Purchase hard copy @https://www.amazon.com/gp/product/172...   ---   Support this podcast: https://anchor.fm/alphamalestrategies/support\n",
      "\n",
      "Lexrank description:\n",
      "All right guys now as y'all guys might know sometimes maybe she did have a little bit of interest but you just did some just went on a kilt that but a lot of times they don't even be that guys when you go up and get some of these women normal guys. Alright guys, so anytime a woman rejects you what she basically saying is you are not what I'm looking for because there's no such thing as a woman being off the market i period and for any of you guys go jump on your fucking soapbox talking shit if women approached me.\n",
      "\n",
      "Episode transcription:\n",
      "What's up fellas? So I got a patron supported that wanted me to talk about passive aggressive women like this is a category of women. All right, guys all women a passive-aggressive. All right guys, when a woman won't set a date with you or you know tell you will see or she cancels a date. That's a woman being passed. Aggressive guys, that's a woman that didn't know how to tell you directly. I'm not interested. All right guys now as y'all guys might know sometimes maybe she did have a little bit of interest but you just did some just went on a kilt that but a lot of times they don't even be that guys when you go up and get some of these women normal guys. They don't want to be confrontational. They know that a rejection is basically a woman's way of saying you're not good enough for me and I'm a  I tell you guys why.  Women are never off the market. Even if she's married if when you go up and you meet a woman if you are higher value than the man she got at home and what I mean by high value, I mean whatever she values some women are into pretty boys. Some women are into money. Some women are into Charisma more all women are into some of them to some degree, but some women just  Are you a man? That's smooth as fuck and some women are just into primarily into looks and some women as y'all guys might know are all about the dollar. So and let me tell you guys like what I mean by that if you are dating a woman and she's with you cuz you are better men provider. That's what she's seeking. She wants a man that's about two dollars that look out for her and a billionaire comes up and approached her and she knows he's a billionaire.  Yo chick gonna be gone not that day. Not that day because she got to see what he's about. She gots to see his is he he just want to fuck one time. But if he won't show job, he will have your fucking job. Alright guys. So now she won't leave you that day. She got to see what this motherfucker maybe you only want to ask one time. But if he show us some consistency and she and he shows that he want to be her man. She gonna leave your ass it just that if a woman is into Luke's and  Meet a guys that's in her eyes more attractive than you and then after she doesn't talk to him a couple of times on the side. Guess what your chick gonna be going. I got your chick motherfucker. Alright guys, so anytime a woman rejects you what she basically saying is you are not what I'm looking for because there's no such thing as a woman being off the market i period and for any of you guys go jump on your fucking soapbox talking shit if women approached me.  N and you will marry in a hotter chick came up and approach you that was hotter than the chick you got at home your ass or do the same fucking thing. Unfortunately for us women do not approach us. And so therefore if you have a wife at home, unless a woman is choosing extremely hard. You really won't go out your way to talk to no other cheese because you married so fuck it. All right. So that's the thing with that some of you guys still be on. All right, some of you guys are still married, whatever you still.  Young but so all rejection is a woman's passive-aggressive way of turning you down. I'll pay for all you guys who don't know what passive-aggressive mean that means a person is trying to avoid confrontation. They're trying to tell you something without a confrontation. I have this shit with me on the Train sometimes sometimes strangers us this started talking to me on the train about anything and I'm not talking about because they recognize me on YouTube. I'm just talking about people be sitting on the track and then just start talking.  Going about some random shit. And then I take my help ease out. I listen I like. Oh, okay. All right. We all know Spotify as the huge music giant app on Spotify. You can also listen to podcast. They have a huge catalog on every topic including the one you're listening to right now. You can easily share what you're listening to with your friends on Instagram if you haven't done so already  Ready, be sure to download the Spotify app search for alpha male strategies and be sure to follow the podcast. All right, and then I'll put my ear PC because I'm being passive-aggressive. I really want to tell them to shut the fuck up but I don't want to do that. So I'm hoping that they understand me put my earpiece back in my ear lets them know motherfucker. I don't want to talk to you and then you'll see them they'll still be talking and then you take the other piece out and be like, oh, okay. All right, and then you put this  You see this in the gym, sometimes two motherfuckers come up talking to you when you if you go up help to somebody guys and they try to put the earpiece back in. Why are you talking to them? That means shut the fuck up. All right guys, passive-aggressively. All right guys, so women are do all those type of things guys to avoid confrontation to not hurt your feelings or whatever. That's past my girls now in a relationship a woman does different type of passive aggressive. All right.  A woman pulls back. All right, if you're dating a woman she pulls back that's passive aggressive guys. That's not done indirectly. All right, some of us men do it too when we started like when you hit the as a few times to minute well before you was, you know, texting her and ask her out and shit now, you ain't doing it you pulling back a little bit you hoping she get the hint. All right, a pullback is a passive-aggressive way of letting the person know I'm losing fucking interest now. Sometimes it's done hoping that the person  You know taste a shit up because they ain't on point and sometimes it's done cause you really tired of motherfucking and you want them to get the hand get the fuck on. Alright guys. So if you date a woman she passive-aggressive if you laying in bed with a woman and you live with her and she sleeps with her back turned to you guys that's passive aggressive and letting you know that I'm losing interest. Oh, I ain't got much issues in you right now all that's passive aggressive guys. Now, there's levels to passive-aggressive.  First a woman is passive aggressive. That means she pulls back. She does things to show you that she's losing interest that's passive aggressive guys. All right silent treatment all this shit all that's done passive-aggressive if you don't pick up on it, or if you pick up on it, and you start acting insecure about it. That's when the masculine energy comes. Alright, so first a woman is passive aggressive. She pulls back she tries to dusting to let you know she's losing interest the  Great way to handle it is for you to pull back and get on your fucking purpose and shit like that and let her come back to you. All right, that's the correct way of doing it. But if you didn't do it that way you start acting insecure or accuse her of cheating and shit like that. That's when the masculine energy comes. All right that lets you know that it's really low. Alright guys, so that's all that is what that passive aggressive guys. Is that that's just a way of woman lets, you know, all women are passing. There's no such thing as talk about passengers you be at basically a  Asking me to talk about 4 billion women because all women are passive aggressive and when a woman won't typically if a woman is being passive-aggressive and she wants you to make some changes to where she really cares about you and she wants you to make some changes. She used it'll do us in a passive-aggressive match message on social media Facebook or some shit like that that you are. No she's talking about you but the and everybody else would know she talking about you.  But she really wants some change and she's also playing the victim card. All right, that way she's letting everybody know look at the sorry piece of shit that I got at home. Alright guys, so that's the thing with that guys. So just pay attention. All passive-aggressive is a woman losing interest. All right, and all women are passive aggressive. It's a feminine trait, but we men also have it too sometimes sometimes I am comfor tation. I'll let you know. All right, and sometimes I'm not all right men and women both carry trace a masculine and  Feminine energy. Obviously, we care more masculine than women, but we still some of us guys are passive aggressive to guys. All right, so that's the situation with that and I had another Patron supported. I wanted me to talk about being mentally strong. All right guys, mentally being mentally strong guy comes from going through trials and tribulations and when you go through those trials and tribulations, it's not about crying while you were at the bottom. It's about figure it out.  How can you be better next time what got you in this position? Like when you see basketball players football players and shit, like let's let's think back to the Chicago Bulls or the 90s right when the Pistons will be Nee ass in the late 80s early 90s, right right before the Bulls won their first championship. All right, when the Piston will be named as what they did each season in the you guys know each season. They push them closer and closer to they finally beat them so they was learning from them.  Mistakes see that's the thing about being mentally strong. You have to learn from your mistakes. All right, when I first joined on YouTube and you know David Koechner was taking shots at me and shit. I show week mental strength because I would lash out and respond back to it. All right. And when this after I came to Patron and I went back I learned something from that II like I said, man, you know, what can we do?  Because this ain't going on. Well, alright, if you going to be on YouTube and you're going to be getting the views that you getting and they getting the views that they getting well jealousy is going to come with that. So, how are you going to handle that? Are you going to stay here and have a Jocelyn match with these motherfuckers going backwards and for all right, or are you going to learn from what you did last time guys? Come on here all the time. Hey, did you see such made that video about UAMS you need to respond.  I ain't responding to shit. All right, guys, that's what I learned from that I don't even watch guys. Come over here not letting me know all these guys people making reaction videos about me. I don't even watch the reaction videos about me period I made a video about Derek Jackson and somebody told me he was funded to a comment and go check it out. And then that come in. He said I ain't seen the video and I'm not going to  Watch the video and that is precisely how you handle the guys when people like me being on YouTube and shit. What I learned is, you know, not only do you not respond. Do not even watch it. I don't care if they make a hundred reaction videos to me. I don't watch one of them. All right, that's the thing with that guys. So the thing about being mentally strong is that usually means that you had a low point if you're being mentally strong that means you're at a low point now,  You got to look at what can I do to come back stronger and better next time when I was at the gym?  In a client would not want to rehire me to train them when they will come through an a you know, you know money's a little tight right now, which is bullshit. I don't see you fucking moving out of fucking Manhattan. I see you still paying that six grand a month for rent. So ain't no fucking financial problems. You just don't want me to try. Well, I learned to be a what I took from that EOS. I need to become a better trainer surely enough. I started hearing that less and less and less take the very end when I was training.  I had lost a client and over two years guys over two years. All right guys that because I seen that I'm losing clients. I felt like it was something that I was not giving the clients and instead of mibu and and crying and want to quit what I took from that is I needed to enhance my skills. All right guys, so being mentally strong is not about suck it up and be a man being mentally strongest taking something from the lesson taking something from that ass-whooping you.  Eating right now and coming back stronger next time. Alright guys as I get bigger and bigger than your own on YouTube and shit like that. You're gonna see more reaction videos. You don't seem oh hey and guess what? You ain't gonna get out of me. You ain't gonna get not one responds you be talking to your motherfucking self. I wouldn't give a fuck if somebody showed y'all a picture of me fucking a pig and five years old. I ain't get a missile got to respond to this. They got your father to paint you you gotta respond. It ain't responding to  Shit, believe what you wanna believe? I don't give a fuck if they got a picture of me being a 90 year old lady up. Well Kane Ain't responding to shit. Believe what you wanna believe. I'm not responding to Jack. All right guys, that's what I fucking lurk about it. Alright guys. So if you if somebody is hating on you in your unless it's being disrespectful.  Just ignore it. All right, if somebody being disrespectful they hate on you and your face. Oh, you need to check the ass. But if somebody just hating from afar let they ass hate for my father. Somebody come telling you some other fucking say it behind your back man. Listen, you know what I would tell them up like that man. I don't even want to hear I don't care what they say it. They said my fucking face. That's why would somebody come try to tell me something if somebody on my YouTube Channel right now right now comes on my channel and try to tell me somebody say  Some about me on my YouTube. I block them for being messy for being a little bitch. I blocked the ass trying to bring Miss to me. Hey, it'll Miss Southern such channels that I never even fucking heard of and I blocked the ass for being a little bitch. All right, I don't block them for relaying the message. I blocked him from being a bitch. That's what I blocking for. I don't even want to hear it. Alright guys, so that's how you become mentally strong guys when you go through something.  Take a lesson from that as in what can I do different next time? How did I get myself in this situation? All right guys and learn from it. Alright. Alright guys, so that's the situation with that like the video comment down below what you guys want to see next. Holler back.\n"
     ]
    }
   ],
   "source": [
    "with open(transcipt_path_gold, 'r') as f:\n",
    "    episode_json = json.load(f)\n",
    "    # seems that the last result in each trastcript is a repetition of the first one, so we ignore it\n",
    "    transcripts = [result[\"alternatives\"][0]['transcript'] for result in episode_json[\"results\"][:-1] if 'transcript' in result[\"alternatives\"][0]]\n",
    "\n",
    "print(f\"Episode description:\\n{episode_example_gold['episode_description']}\")\n",
    "print(f\"\\nLexrank description:\\n{episode_example_gold['lexrank summary']}\")\n",
    "print(f\"\\nEpisode transcription:\\n{' '.join(transcripts)}\")"
   ]
  }
 ],
 "metadata": {
  "interpreter": {
   "hash": "8218bdb2dad6187c4b0f3e84e26c53ed9d719227dd49e3deae672e3e8481b4c5"
  },
  "kernelspec": {
   "display_name": "Python 3.9.7 ('nlp')",
   "language": "python",
   "name": "python3"
  },
  "language_info": {
   "codemirror_mode": {
    "name": "ipython",
    "version": 3
   },
   "file_extension": ".py",
   "mimetype": "text/x-python",
   "name": "python",
   "nbconvert_exporter": "python",
   "pygments_lexer": "ipython3",
   "version": "3.9.7"
  },
  "orig_nbformat": 4
 },
 "nbformat": 4,
 "nbformat_minor": 2
}
